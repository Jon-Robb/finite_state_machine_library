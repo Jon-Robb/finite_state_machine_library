{
 "cells": [
  {
   "cell_type": "markdown",
   "metadata": {},
   "source": [
    "---\n",
    "\n",
    "# À gauche, à droite, c'est un SOS!\n",
    "### GoPiGo 101 - Série d'exercices 7\n",
    "##### Manipulation du **servo-moteur**.\n",
    "\n",
    "Un servo-moteur est un moteur asservi en position. Le moteur est équipé d'un capteur angulaire et d'un module d'asservissement lui permettant d'atteindre simplement une orientation donnée. Ainsi, il suffit de lui commander une position angulaire pour qu'il s'y déplace.\n",
    "\n",
    "Pour cet exercice, vous devez avoir installé et connecté un servo-moteur sur l'un des ports servo (`SERVO1` ou `SERVO2`). [Voir cette image](https://gopigo3.readthedocs.io/en/master/api-basic/structure.html#hardware-ports).\n",
    "\n",
    "---\n",
    "\n",
    "Les fonctions suivantes permettent la manipulation des servo-moteurs :\n",
    " - `EasyGoPiGo3.init_servo` : crée un objet contrôleur du servo-moteur `easygopigo3.Servo`\n",
    " - `Servo.rotate_servo` : effectue la rotation du servo-moteur à l'angle donné\n",
    " - `Servo.reset_servo` : réinitialise le servo-moteur à sa position centrale\n",
    " - `Servo.disable_servo` : désactive l'asservissement du moteur et permet une manipulation manuelle\n",
    "\n",
    "**Important** : Le robot GoPiGo3 peut contrôller deux servo-moteurs. Gardez en tête ces considérations :\n",
    " - la configuration mécanique actuelle du robot est :\n",
    "     - `SERVO1`\n",
    "         - se trouve sur la plateforme supérieure du robot\n",
    "         - supporte la caméra\n",
    "         - est connecté dans le port servo de droite\n",
    "     - `SERVO2` \n",
    "         - se trouve sur la plateforme inférieure du robot\n",
    "         - supporte le télémètre et le capteur lumineux\n",
    "         - est connecté dans le port servo de gauche     \n",
    " - la rotation du servo est possible entre 0° et 180° :\n",
    "     - 0° correspond à gauche complètement\n",
    "     - 90° correspond au centre\n",
    "     - 180° correspond à droite complètement\n",
    " - **mise en garde** : \n",
    "     - lorsque l'asservissement des servo-moteurs est effectif, il **ne faut pas** tenter de les bouger manuellement\n",
    "     - il est possible de désactiver l'asservissement pour manuellement modifier la position des servo-moteurs avec la fonction `Servo.disable_servo`\n",
    " - **ATTENTION - IMPORTANT** : **vous devez obligatoirement limiter la rotation des servo-moteurs par programmation en tout temps** :\n",
    "     - 45° à 135° pour la caméra sur le port `SERVO1`\n",
    "         - 90° ± 45°\n",
    "     - 35° à 145° pour le télémètre sur le port `SERVO2`\n",
    "         - 90° ± 55°\n",
    " - la configuration mécanique des robots fait en sorte que l'opération des servo-moteurs est délicate\n",
    "     - le câble de la caméra est tendu lorsque le servo-moteur est trop tourné\n",
    "     - le côté du télémètre ente en collision avec le chassis du robot si le servo-moteur est trop tourné\n",
    " - Finalement, on remarque que l'ajustement mécanique du zéro n'est pas parfait. Il faudra trouver une façon de faire ce 0 par programmation.\n",
    "\n",
    "### Démonstration"
   ]
  },
  {
   "cell_type": "code",
   "execution_count": 5,
   "metadata": {},
   "outputs": [
    {
     "name": "stdout",
     "output_type": "stream",
     "text": [
      "Vous avez 0 seconde pour déplacer manuellement le servo-moteur du TÉLÉMÈTRE... avant son recentrage..."
     ]
    }
   ],
   "source": [
    "import easygopigo3 as gpg\n",
    "import time\n",
    "\n",
    "robot = gpg.EasyGoPiGo3()\n",
    "\n",
    "camera_servo_port = 'SERVO1'\n",
    "range_sensor_servo_port = 'SERVO2'\n",
    "\n",
    "camera_servo_control = robot.init_servo(port=camera_servo_port)\n",
    "range_sensor_servo_control = robot.init_servo(port=range_sensor_servo_port)\n",
    "\n",
    "time_to_sleep = 1.\n",
    "\n",
    "# Recentre les 2 servos\n",
    "camera_servo_control.reset_servo()\n",
    "range_sensor_servo_control.reset_servo()\n",
    "time.sleep(time_to_sleep)\n",
    "\n",
    "# Applique une rotation opposée sur les 2 servos\n",
    "camera_servo_control.rotate_servo(135)\n",
    "range_sensor_servo_control.rotate_servo(35)\n",
    "time.sleep(time_to_sleep)\n",
    "\n",
    "\n",
    "# dégagement de l'asservissement du servo de la caméra pendant un certain temps \n",
    "# permet un déplacement manuel\n",
    "time_to_displacement = 12\n",
    "camera_servo_control.disable_servo()\n",
    "for i in reversed(range(time_to_displacement)):\n",
    "    print(f'\\rVous avez {i} seconde{\"s\" if i > 1 else \"\"} pour déplacer manuellement le servo-moteur de la CAMÉRA... avant son recentrage.', end='')\n",
    "    time.sleep(1.)\n",
    "camera_servo_control.reset_servo()\n",
    "\n",
    "# dégagement de l'asservissement du servo du télémètre pendant un certain temps \n",
    "# permet un déplacement manuel\n",
    "\n",
    "range_sensor_servo_control.disable_servo()\n",
    "for i in reversed(range(time_to_displacement)):\n",
    "    print(f'\\rVous avez {i} seconde{\"s\" if i > 1 else \"\"} pour déplacer manuellement le servo-moteur du TÉLÉMÈTRE... avant son recentrage.', end='')\n",
    "    time.sleep(1.)\n",
    "range_sensor_servo_control.reset_servo()\n",
    "\n",
    "range_sensor_servo_control.rotate_servo(5)\n",
    "\n",
    "del range_sensor_servo_control\n",
    "del camera_servo_control\n",
    "del range_sensor_servo_port\n",
    "del camera_servo_port\n",
    "del robot\n",
    "del time\n",
    "del gpg"
   ]
  },
  {
   "cell_type": "markdown",
   "metadata": {},
   "source": [
    "---\n",
    "### Préparation"
   ]
  },
  {
   "cell_type": "code",
   "execution_count": 22,
   "metadata": {},
   "outputs": [],
   "source": [
    "import easygopigo3 as gpg\n",
    "robot = gpg.EasyGoPiGo3()\n",
    "import time\n",
    "camera_servo_port = 'SERVO1'\n",
    "range_sensor_servo_port = 'SERVO2'\n",
    "\n",
    "camera_offset_correction = 1 \n",
    "range_sensor_offset_correction = -10\n",
    "\n",
    "camera_servo_control = robot.init_servo(port=camera_servo_port)\n",
    "range_sensor_servo_control = robot.init_servo(port=range_sensor_servo_port)\n",
    "\n",
    "def reset_servos():\n",
    "    range_sensor_servo_control.rotate_servo(80)\n",
    "    camera_servo_control.rotate_servo(91)\n",
    "\n",
    "def perf_sleep(for_n_seconds : int = 0) -> None:\n",
    "    time_start = time.perf_counter()\n",
    "    time_counter = 0\n",
    "    time_to_wait = for_n_seconds\n",
    "    while (time_counter < time_to_wait):\n",
    "        time_counter = time.perf_counter() - time_start\n",
    "        \n",
    "\n",
    "reset_servos()"
   ]
  },
  {
   "cell_type": "markdown",
   "metadata": {},
   "source": [
    "---\n",
    "### Exercice 7.1.\n",
    "Faites un parcours de 45° à 135° par incrément de 5° sur le servo de la caméra alors que le servo du télémètre effectue le parcours inverse (de 135° à 45°). Vous devez attendre 0.25 sec entre chaque pas du parcours."
   ]
  },
  {
   "cell_type": "code",
   "execution_count": 3,
   "metadata": {},
   "outputs": [],
   "source": [
    "start_time = time.perf_counter()\n",
    "elapsed_time = 0\n",
    "n_cycles= 18\n",
    "\n",
    "camera_offset_correction = 1 \n",
    "range_sensor_offset_correction = -10\n",
    "camera_servo_control.rotate_servo(45 + camera_offset_correction)\n",
    "range_sensor_servo_control.rotate_servo(135 + range_sensor_offset_correction)\n",
    "\n",
    "for i in range(n_cycles):\n",
    "    camera_servo_control.rotate_servo(45 + camera_offset_correction + i * 5 )\n",
    "    range_sensor_servo_control.rotate_servo(135 + range_sensor_offset_correction - i * 5)\n",
    "    perf_sleep(0.25)\n",
    "    \n",
    "reset_servos()"
   ]
  },
  {
   "cell_type": "markdown",
   "metadata": {},
   "source": [
    "---\n",
    "### Exercice 7.2.\n",
    "Faites le même parcours qu'au numéro précédent tout en enchênant le parcours inverse. C'est-à-dire faire de 45° à 135° puis à 45° puis à 135° et ainsi de suite par incrément de 5°.\n",
    "\n",
    "Vous devez faire une fonction qui fait n cycles avec cette signature : \n",
    "<br>`def move_servos(n_cycle=2, time_to_wait=0.25)`\n",
    "\n",
    "Assurez-vous que les 2 sevos soient en position opposée."
   ]
  },
  {
   "cell_type": "code",
   "execution_count": 9,
   "metadata": {},
   "outputs": [
    {
     "ename": "NameError",
     "evalue": "name 'reset_servos' is not defined",
     "output_type": "error",
     "traceback": [
      "\u001b[0;31m---------------------------------------------------------------------------\u001b[0m",
      "\u001b[0;31mNameError\u001b[0m                                 Traceback (most recent call last)",
      "\u001b[0;32m<ipython-input-9-ad2c45f3869d>\u001b[0m in \u001b[0;36m<module>\u001b[0;34m\u001b[0m\n\u001b[1;32m     13\u001b[0m \u001b[0;34m\u001b[0m\u001b[0m\n\u001b[1;32m     14\u001b[0m \u001b[0mmove_servos\u001b[0m\u001b[0;34m(\u001b[0m\u001b[0;34m)\u001b[0m\u001b[0;34m\u001b[0m\u001b[0;34m\u001b[0m\u001b[0m\n\u001b[0;32m---> 15\u001b[0;31m \u001b[0mreset_servos\u001b[0m\u001b[0;34m(\u001b[0m\u001b[0;34m)\u001b[0m\u001b[0;34m\u001b[0m\u001b[0;34m\u001b[0m\u001b[0m\n\u001b[0m\u001b[1;32m     16\u001b[0m \u001b[0;34m\u001b[0m\u001b[0m\n",
      "\u001b[0;31mNameError\u001b[0m: name 'reset_servos' is not defined"
     ]
    }
   ],
   "source": [
    "cycles = int((135 - 45) / 5)\n",
    "\n",
    "def move_servos(n_cycle=2, time_to_wait=0.25):\n",
    "    for _ in range(n_cycle):\n",
    "        for i in range(cycles):\n",
    "            camera_servo_control.rotate_servo(45 + camera_offset_correction + i * 5 )\n",
    "            range_sensor_servo_control.rotate_servo(135 + range_sensor_offset_correction - i * 5)\n",
    "            perf_sleep(0.25)\n",
    "        for i in range(cycles):\n",
    "            camera_servo_control.rotate_servo(135 + camera_offset_correction - i * 5 )\n",
    "            range_sensor_servo_control.rotate_servo(45 + range_sensor_offset_correction + i * 5)\n",
    "            perf_sleep(0.25)\n",
    "            \n",
    "move_servos()\n",
    "reset_servos()\n",
    "    "
   ]
  },
  {
   "cell_type": "markdown",
   "metadata": {},
   "source": [
    "---\n",
    "### Exercice 7.3.\n",
    "Comme vous l'avez sans doute remarqué, l'angle 90° qui devrait être parfaitement aligné avec le devant du robot ne l'est pas tout à fait. Une limitation mécanique limite l'ajustement physique possible. Il faut donc remédier à cette solution par logiciel.\n",
    "\n",
    "Faites un petit programme qui utilise la télécommande pour trouver l'angle qui est le mieux aligné avec le devant du robot. Faites afficher l'angle courant afin de déterminer facilement l'angle obtenu lors du zéro mécanique.\n",
    "\n",
    "Limitez la recherche à 90° ± 45°. \n",
    "\n",
    "Prenez en note les informations obtenues, elles seront réutiliées."
   ]
  },
  {
   "cell_type": "code",
   "execution_count": 11,
   "metadata": {},
   "outputs": [],
   "source": [
    "reset_servos()"
   ]
  },
  {
   "cell_type": "markdown",
   "metadata": {},
   "source": [
    "---\n",
    "### Exercice 7.4.\n",
    "Suivant les informations obtenues au numéro précédent, on vous demande de faire la fonction suivante :\n",
    " - faire une fonction qui déplace un servo selon cette signature :\n",
    " - `def servo_position(servo_id, angle)`\n",
    " - l'angle est l'orientation désirée, par contre, on veut changer de référentiel, au lieu d'avoir les angles variants de 0° à 180°, on désire que l'angle soit défini ainsi :\n",
    "     - 0° droit devant le robot\n",
    "     - 90° à droite\n",
    "     - -90° à gauche\n",
    "     - toutefois, l'angle doit être limité à ±45°\n",
    "     - finalement, vous devez utiliser les zéros obtenu au numéro précédent\n",
    " - le `servo_id` est l'identifiant :\n",
    "     - `0` la caméra\n",
    "     - `1` le télémètre\n",
    "     - on utilise la caméra pour toutes autres valeurs\n",
    "\n",
    "<pre>\n",
    "\n",
    "                            90°                                                                0°  * le zéro mécanique imparfait                       \n",
    "                             ^                                                                 ^     est corrigé par logiciel                   \n",
    "                             |                            ____|\\                               |                        \n",
    "                             |                           !      \\                              |   * un changement de référentiel                     \n",
    "                             |                           !       \\                             |     est appliqué\n",
    "                             |                           !       /                             |                        \n",
    "                             |                           |____  /                              |                        \n",
    "                             |                                |/                               |                        \n",
    "                             |                                                                 |                        \n",
    "                             |                                                                 |                        \n",
    "   180° <--------------------+--------------------> 0°               -90° <--------------------+--------------------> 90°\n",
    "</pre>\n",
    "\n",
    "**Attention** : la réalisation de cet exercice peut occasionné des dépassements de la plage limite. Il est donc conseillé de faire imprimé le résultat à l'écran de vos angles avant de les utiliser directement sur le robot et de faire des erreurs de dépassement.\n",
    "\n",
    "Lorsque vous fonction est terminée, déplacer les servos comme au numéro 1. Assurez-vous de centrer les servos à la fin."
   ]
  },
  {
   "cell_type": "code",
   "execution_count": 21,
   "metadata": {},
   "outputs": [
    {
     "ename": "ValueError",
     "evalue": "Vous dépassez les bornes",
     "output_type": "error",
     "traceback": [
      "\u001b[0;31m---------------------------------------------------------------------------\u001b[0m",
      "\u001b[0;31mValueError\u001b[0m                                Traceback (most recent call last)",
      "\u001b[0;32m<ipython-input-21-eeae44c2eb63>\u001b[0m in \u001b[0;36m<module>\u001b[0;34m\u001b[0m\n\u001b[1;32m      3\u001b[0m         \u001b[0;32mraise\u001b[0m \u001b[0mValueError\u001b[0m\u001b[0;34m(\u001b[0m\u001b[0;34m\"Vous dépassez les bornes\"\u001b[0m\u001b[0;34m)\u001b[0m\u001b[0;34m\u001b[0m\u001b[0;34m\u001b[0m\u001b[0m\n\u001b[1;32m      4\u001b[0m \u001b[0;34m\u001b[0m\u001b[0m\n\u001b[0;32m----> 5\u001b[0;31m \u001b[0mservo_positions\u001b[0m\u001b[0;34m(\u001b[0m\u001b[0;36m0\u001b[0m\u001b[0;34m,\u001b[0m \u001b[0;36m2523523\u001b[0m\u001b[0;34m)\u001b[0m\u001b[0;34m\u001b[0m\u001b[0;34m\u001b[0m\u001b[0m\n\u001b[0m",
      "\u001b[0;32m<ipython-input-21-eeae44c2eb63>\u001b[0m in \u001b[0;36mservo_positions\u001b[0;34m(servo_id, angle)\u001b[0m\n\u001b[1;32m      1\u001b[0m \u001b[0;32mdef\u001b[0m \u001b[0mservo_positions\u001b[0m\u001b[0;34m(\u001b[0m\u001b[0mservo_id\u001b[0m\u001b[0;34m:\u001b[0m\u001b[0mint\u001b[0m\u001b[0;34m,\u001b[0m \u001b[0mangle\u001b[0m\u001b[0;34m:\u001b[0m\u001b[0mint\u001b[0m\u001b[0;34m)\u001b[0m\u001b[0;34m:\u001b[0m\u001b[0;34m\u001b[0m\u001b[0;34m\u001b[0m\u001b[0m\n\u001b[1;32m      2\u001b[0m     \u001b[0;32mif\u001b[0m \u001b[0;32mnot\u001b[0m \u001b[0;34m-\u001b[0m\u001b[0;36m45\u001b[0m \u001b[0;34m<\u001b[0m \u001b[0mangle\u001b[0m \u001b[0;34m<\u001b[0m \u001b[0;36m45\u001b[0m\u001b[0;34m:\u001b[0m\u001b[0;34m\u001b[0m\u001b[0;34m\u001b[0m\u001b[0m\n\u001b[0;32m----> 3\u001b[0;31m         \u001b[0;32mraise\u001b[0m \u001b[0mValueError\u001b[0m\u001b[0;34m(\u001b[0m\u001b[0;34m\"Vous dépassez les bornes\"\u001b[0m\u001b[0;34m)\u001b[0m\u001b[0;34m\u001b[0m\u001b[0;34m\u001b[0m\u001b[0m\n\u001b[0m\u001b[1;32m      4\u001b[0m \u001b[0;34m\u001b[0m\u001b[0m\n\u001b[1;32m      5\u001b[0m \u001b[0mservo_positions\u001b[0m\u001b[0;34m(\u001b[0m\u001b[0;36m0\u001b[0m\u001b[0;34m,\u001b[0m \u001b[0;36m2523523\u001b[0m\u001b[0;34m)\u001b[0m\u001b[0;34m\u001b[0m\u001b[0;34m\u001b[0m\u001b[0m\n",
      "\u001b[0;31mValueError\u001b[0m: Vous dépassez les bornes"
     ]
    }
   ],
   "source": [
    "def servo_positions(servo_id:int, angle:int):\n",
    "    if not -45 < angle < 45:\n",
    "        raise ValueError(\"Vous dépassez les bornes\")\n",
    "    else:\n",
    "        angle += 90\n",
    "        if servo_id == 0:\n",
    "            camera_servo_control.rotate_servo(angle + camera_offset_correction)\n",
    "        elif servo_id == 1\n",
    "            range_sensor_servo_control.rotate_servo(angle + range_sensor_offset_correction)  \n",
    "        else:\n",
    "            raise ValueError(\"You suck, your ID is so bad\")\n",
    "\n",
    "servo_positions(0, 0)"
   ]
  },
  {
   "cell_type": "markdown",
   "metadata": {},
   "source": [
    "---\n",
    "### Exercice 7.5. * §\n",
    "Faites une classe qui encapsule l'opération d'un servo moteur. Cette classe doit :\n",
    " - prendre dans son constructeur les paramètres suivants :\n",
    "     - le robot\n",
    "     - si on s'adresse au servo de la caméra ou à celui du télémètre\n",
    "     - le zéro\n",
    "     - les deux limites d'opération : minimum et maximum (ATTENTION, ces limites doivent s'auto-limiter à un maximum de ±55°)\n",
    " - il doit être possible de demander le déplacement de la position désirée - toutefois, la position est toujours référencée selon le zéro et ne dépasse jamais les limites imposées\n",
    " - en tout temps, il doit être possible de questionner cette classe pour connaître la position du servo\n",
    " - n'oubliez pas qu'on désire toujours le 0° devant le robot avec un ± _x_° pour aller de droite(+) à gauche(-)"
   ]
  },
  {
   "cell_type": "code",
   "execution_count": null,
   "metadata": {},
   "outputs": [],
   "source": [
    "# Solution\n",
    "# ..."
   ]
  }
 ],
 "metadata": {
  "interpreter": {
   "hash": "11938c6bc6919ae2720b4d5011047913343b08a43b18698fd82dedb0d4417594"
  },
  "kernelspec": {
   "display_name": "Python 3",
   "language": "python",
   "name": "python3"
  },
  "language_info": {
   "codemirror_mode": {
    "name": "ipython",
    "version": 3
   },
   "file_extension": ".py",
   "mimetype": "text/x-python",
   "name": "python",
   "nbconvert_exporter": "python",
   "pygments_lexer": "ipython3",
   "version": "3.7.3"
  }
 },
 "nbformat": 4,
 "nbformat_minor": 4
}
