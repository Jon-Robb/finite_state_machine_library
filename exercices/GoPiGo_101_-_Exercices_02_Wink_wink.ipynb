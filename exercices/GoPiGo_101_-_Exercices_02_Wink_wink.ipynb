{
 "cells": [
  {
   "cell_type": "markdown",
   "metadata": {},
   "source": [
    "---\n",
    "\n",
    "# Wink wink!\n",
    "### GoPiGo 101 - Série d'exercices 2\n",
    "##### Manipulation des **phares**.\n",
    "Les phares sont les 2 lumières rouges se trouvant sous la plaquette rouge `Dexter GoPiGo3`. Ces deux diodes électroluminescentes sont situées sous la plaquette du robot à l'avant à gauche et à droite.\n",
    "\n",
    "---\n",
    "\n",
    "Les fonctions suivantes permettent la manipulation des phares :\n",
    " - `EasyGoPiGo3.blinker_on` ou `EasyGoPiGo3.led_on` : allume un phare\n",
    " - `EasyGoPiGo3.blinker_off` ou `EasyGoPiGo3.led_off` : éteint un phare\n",
    "\n",
    "### Démonstration"
   ]
  },
  {
   "cell_type": "code",
   "execution_count": 2,
   "metadata": {},
   "outputs": [],
   "source": [
    "import easygopigo3 as gpg\n",
    "import time\n",
    "\n",
    "robot = gpg.EasyGoPiGo3()\n",
    "time_to_wait = 1. # en secondes\n",
    "\n",
    "# les méthodes suivantes sont des substituts équivalents :\n",
    "#  - blinker_on <---> led_on\n",
    "#  - blinker_off <---> led_off\n",
    "robot.blinker_on(0) # 0 = droite\n",
    "robot.blinker_on(1) # 1 = gauche\n",
    "time.sleep(time_to_wait)\n",
    "robot.blinker_off('right') # int ou str\n",
    "robot.blinker_off('left') # int ou str\n",
    "\n",
    "time.sleep(time_to_wait)\n",
    "\n",
    "robot.led_on(0) # 0 = droite\n",
    "robot.led_on(1) # 1 = gauche\n",
    "time.sleep(time_to_wait)\n",
    "robot.led_off('right') # int ou str\n",
    "robot.led_off('left') # int ou str\n",
    "\n",
    "\n",
    "del time_to_wait\n",
    "del robot\n",
    "del time\n",
    "del gpg"
   ]
  },
  {
   "cell_type": "markdown",
   "metadata": {},
   "source": [
    "---\n",
    "### Préparation\n",
    "Faites la mise en place du code commun pour cette série d'exercices"
   ]
  },
  {
   "cell_type": "code",
   "execution_count": 3,
   "metadata": {},
   "outputs": [],
   "source": [
    "# Mise en place du code commun\n",
    "import easygopigo3 as gpg\n",
    "import time\n",
    "\n",
    "robot = gpg.EasyGoPiGo3()\n",
    "time_to_wait = 1. # en secondes"
   ]
  },
  {
   "cell_type": "markdown",
   "metadata": {},
   "source": [
    "---\n",
    "### Exercice 2.1.\n",
    "Faites une bouble qui fait clignoter les 2 phares pendant 10 secondes à un cycle de 0.5 seconde."
   ]
  },
  {
   "cell_type": "code",
   "execution_count": 15,
   "metadata": {},
   "outputs": [
    {
     "name": "stdout",
     "output_type": "stream",
     "text": [
      "1\n",
      "2\n",
      "3\n",
      "4\n",
      "5\n",
      "6\n",
      "7\n",
      "8\n",
      "9\n",
      "10\n",
      "11\n",
      "12\n",
      "13\n",
      "14\n",
      "15\n",
      "16\n",
      "17\n",
      "18\n",
      "19\n",
      "20\n",
      "21\n"
     ]
    }
   ],
   "source": [
    "# Solution\n",
    "time_start = time.perf_counter()\n",
    "time_counter = 0\n",
    "time_to_wait = 0.25\n",
    "\n",
    "app_duration = 10.\n",
    "cycle_counter = 1\n",
    "\n",
    "while (time_counter < app_duration):\n",
    "    time_counter = time.perf_counter() - time_start\n",
    "    time.sleep(time_to_wait)\n",
    "    robot.blinker_on(0) # 0 = droite\n",
    "    robot.blinker_on(1) # 1 = gauche\n",
    "    time.sleep(time_to_wait)\n",
    "    robot.blinker_off(0) # int ou str\n",
    "    robot.blinker_off(1) # int ou str\n",
    "    \n",
    "    print(cycle_counter)\n",
    "    cycle_counter = cycle_counter + 1\n",
    "\n"
   ]
  },
  {
   "cell_type": "markdown",
   "metadata": {},
   "source": [
    "---\n",
    "### Exercice 2.2.\n",
    "Développez une fonction qui permet de réaliser le même objectif que celui de l'exerice `2.1.`. Votre fonction doit avoir cette signature :\n",
    "\n",
    "`simple_blink(for_n_seconds : int = 1) -> None`\n",
    "\n",
    "`for_n_seconds` doit être obligatoirement un entier limité entre 1 et 60 inclusivement.\n",
    "\n",
    "Testez votre fonction pour 5 secondes."
   ]
  },
  {
   "cell_type": "code",
   "execution_count": 35,
   "metadata": {},
   "outputs": [],
   "source": [
    "# Solution\n",
    "def perf_sleep(for_n_seconds : int = 0) -> None:\n",
    "    time_start = time.perf_counter()\n",
    "    time_counter = 0\n",
    "    time_to_wait = for_n_seconds\n",
    "    while (time_counter < time_to_wait):\n",
    "        time_counter = time.perf_counter() - time_start\n",
    "\n",
    "\n",
    "def simple_blink(for_n_seconds : int = 1) -> None:\n",
    "    if isinstance(for_n_seconds, int) and 1 <= for_n_seconds <= 60:\n",
    "        \n",
    "        time_start = time.perf_counter()\n",
    "        time_counter = 0\n",
    "        time_to_wait = 0.25\n",
    "\n",
    "        app_duration = for_n_seconds\n",
    "        cycle_counter = 1\n",
    "\n",
    "        while (time_counter < app_duration):\n",
    "            time_counter = time.perf_counter() - time_start\n",
    "            time.sleep(time_to_wait)\n",
    "            robot.blinker_on(0) # 0 = droite\n",
    "            robot.blinker_on(1) # 1 = gauche\n",
    "            time.sleep(time_to_wait)\n",
    "            robot.blinker_off(0) # int ou str\n",
    "            robot.blinker_off(1) # int ou str\n",
    "\n",
    "            print(cycle_counter)\n",
    "            cycle_counter = cycle_counter + 1\n",
    "    else: print(\"tes tun cave\")\n",
    "\n",
    "perf_sleep(2)\n",
    "#simple_blink(5)\n"
   ]
  },
  {
   "cell_type": "markdown",
   "metadata": {},
   "source": [
    "---\n",
    "### Exercice 2.3.\n",
    "Développez une fonction qui permet de réaliser un clignotement un peu plus sophistiqué. Votre fonction doit avoir cette signature :\n",
    "\n",
    "`cool_blink(n_times : int = 1, cycle_duration : float = 1., percent_on : float = 0.5) -> None`\n",
    "\n",
    "où :\n",
    " - `n_times` indique le nombre de fois à clignoter\n",
    " - `cycle_duration` : indique la durée d'un cycle ouvert-fermé en secondes\n",
    " - `percent_on` : indique le pourcentage de la durée ouverte vs fermée (en % entre 0.0 et 1.0)\n",
    "\n",
    "avec ces contraintes :\n",
    " - `n_times >= 1`\n",
    " - `cycle_duration >= 0.1`\n",
    " - `0.0 <= percent_on <= 1.0`\n",
    "\n",
    "Par exemple, l'appel suivant donne 3 clignotements d'une durée de 1.5 secondes où la lumière est ouverte à 75% du temps et fermée à 25% du temps. \n",
    "\n",
    "`cool_blink(3, 1.5, 0.75)`\n",
    "\n",
    "Faites un test avec ces 3 appels de fontion :\n",
    " - `cool_blink(3, 1.5, 0.75)`\n",
    " - `cool_blink(5, 1.0, 0.5)`\n",
    " - `cool_blink(10, 0.35, 0.1)`"
   ]
  },
  {
   "cell_type": "code",
   "execution_count": 34,
   "metadata": {},
   "outputs": [
    {
     "name": "stdout",
     "output_type": "stream",
     "text": [
      "0.0350009379999392\n",
      "0.31500026000003345\n",
      "0.03500036400009776\n",
      "0.31500026000003345\n",
      "0.03500083299968537\n",
      "0.31500114499976917\n",
      "0.035000207999928534\n",
      "0.31500062500026615\n",
      "0.035000885000044946\n",
      "0.315001196999674\n",
      "0.035000052000214055\n",
      "0.3150000519999594\n",
      "0.035000103999664134\n",
      "0.31500083400032963\n",
      "0.035000625000066066\n",
      "0.31500093799968454\n",
      "0.035000260999822785\n",
      "0.315000623999822\n",
      "0.035000260999822785\n",
      "0.3150011979996634\n"
     ]
    }
   ],
   "source": [
    "# Solution\n",
    "\n",
    "def blinkers_on():\n",
    "    robot.blinker_on(0) # 0 = droite\n",
    "    robot.blinker_on(1) # 1 = gauche\n",
    "\n",
    "def blinkers_off():\n",
    "    robot.blinker_off(0) # int ou str\n",
    "    robot.blinker_off(1) # int ou str\n",
    "    \n",
    "def cool_blink(n_times : int = 1, cycle_duration : float = 1., percent_on : float = 0.5) -> None:\n",
    "    if isinstance(n_times, int) and n_times >= 1 and isinstance(cycle_duration, float) and cycle_duration >= 0.1 and isinstance(percent_on, float) and 0.0 <= percent_on <= 1.0:\n",
    "        for _ in range(n_times):\n",
    "            blinkers_on()\n",
    "            perf_sleep(cycle_duration * percent_on)\n",
    "            blinkers_off()\n",
    "            perf_sleep(cycle_duration * (1- percent_on))\n",
    "            \n",
    "cool_blink(10, 0.35, 0.1)"
   ]
  },
  {
   "cell_type": "markdown",
   "metadata": {},
   "source": [
    "---\n",
    "### Exercice 2.4.\n",
    "Faites cette séquence avec le robot :\n",
    " 1. avancer pendant 1 seconde -> puis arrêter\n",
    " 1. clignoter le phare gauche pendant 1 seconde à intervalle de 0.25 seconde -> puis fermer le phare gauche\n",
    " 1. tourner à gauche pendant 1 seconde\n",
    " 1. poursuivre en ligne droite pendant 1 seconde -> puis arrêter\n",
    " 1. clignoter le phare droit pendant 1 seconde à intervalle de 0.25 seconde -> puis fermer le phare droit\n",
    " 1. tourner à droite pendant 1 seconde\n",
    " 1. poursuivre en ligne droite pendant 1 seconde -> puis arrêter"
   ]
  },
  {
   "cell_type": "code",
   "execution_count": 42,
   "metadata": {},
   "outputs": [],
   "source": [
    "# Solution\n",
    "def timed_blink(blinker_side:int, cycle_duration:float, interval:float):\n",
    "    time_start = time.perf_counter()\n",
    "    time_counter = 0\n",
    "    while(time_counter < cycle_duration):\n",
    "        time_counter = time.perf_counter() - time_start\n",
    "        robot.blinker_on(blinker_side)\n",
    "        perf_sleep(interval/2)\n",
    "        robot.blinker_off(blinker_side)\n",
    "        perf_sleep(interval/2)\n",
    "        \n",
    "robot.forward()\n",
    "perf_sleep(1)\n",
    "robot.stop()\n",
    "timed_blink(1, 1., 0.25)\n",
    "robot.left()\n",
    "perf_sleep(1)\n",
    "robot.forward()\n",
    "perf_sleep(1)\n",
    "robot.stop()\n",
    "timed_blink(0, 1., 0.25)\n",
    "robot.right()\n",
    "perf_sleep(1)\n",
    "robot.forward()\n",
    "perf_sleep(1)\n",
    "robot.stop()"
   ]
  },
  {
   "cell_type": "markdown",
   "metadata": {},
   "source": [
    "---\n",
    "### Exercice 2.5. §\n",
    "\n",
    "Considérant la variable `time_to_wait` égale à `2.3725`, faites cette séquence avec le robot :\n",
    " 1. avancez pendant `time_to_wait` secondes -> puis arrêter\n",
    " 1. reculez pendant `time_to_wait` secondes -> puis arrêter\n",
    " 1. tournez à droite pendant `time_to_wait` secondes\n",
    " 1. tournez à gauche pendant `time_to_wait` secondes\n",
    "    \n",
    "Toutefois, vous devez faire clignoter les phares selon cette stratégie :\n",
    " - lorsque le robot est à l'arrêt, les phares sont éteints\n",
    " - lorsque le robot avance, les 2 phares clignotent à un cycle de 0.75 seconde\n",
    " - lorsque le robot recule, les 2 phares clignotent à un cycle de 0.25 seconde\n",
    " - lorsque le robot tourne, le phare du côté tournant clignote à un cycle de 0.5 seconde alors que le phare opposé est éteint"
   ]
  },
  {
   "cell_type": "code",
   "execution_count": 54,
   "metadata": {},
   "outputs": [
    {
     "ename": "KeyboardInterrupt",
     "evalue": "",
     "output_type": "error",
     "traceback": [
      "\u001b[0;31m---------------------------------------------------------------------------\u001b[0m",
      "\u001b[0;31mKeyboardInterrupt\u001b[0m                         Traceback (most recent call last)",
      "\u001b[0;32m<ipython-input-54-7a04248efb00>\u001b[0m in \u001b[0;36m<module>\u001b[0;34m\u001b[0m\n\u001b[1;32m     28\u001b[0m \u001b[0;31m#robot_move_blink(time_to_wait, robot.forward, 0.75)\u001b[0m\u001b[0;34m\u001b[0m\u001b[0;34m\u001b[0m\u001b[0;34m\u001b[0m\u001b[0m\n\u001b[1;32m     29\u001b[0m \u001b[0;31m#robot_move_blink(time_to_wait, robot.backward, 0.25)\u001b[0m\u001b[0;34m\u001b[0m\u001b[0;34m\u001b[0m\u001b[0;34m\u001b[0m\u001b[0m\n\u001b[0;32m---> 30\u001b[0;31m \u001b[0mrobot_move_blink\u001b[0m\u001b[0;34m(\u001b[0m\u001b[0mtime_to_wait\u001b[0m\u001b[0;34m,\u001b[0m \u001b[0mrobot\u001b[0m\u001b[0;34m.\u001b[0m\u001b[0mright\u001b[0m\u001b[0;34m,\u001b[0m \u001b[0;36m0.5\u001b[0m\u001b[0;34m)\u001b[0m\u001b[0;34m\u001b[0m\u001b[0;34m\u001b[0m\u001b[0m\n\u001b[0m\u001b[1;32m     31\u001b[0m \u001b[0mrobot_move_blink\u001b[0m\u001b[0;34m(\u001b[0m\u001b[0mtime_to_wait\u001b[0m\u001b[0;34m,\u001b[0m \u001b[0mrobot\u001b[0m\u001b[0;34m.\u001b[0m\u001b[0mleft\u001b[0m\u001b[0;34m,\u001b[0m \u001b[0;36m0.5\u001b[0m\u001b[0;34m)\u001b[0m\u001b[0;34m\u001b[0m\u001b[0;34m\u001b[0m\u001b[0m\n",
      "\u001b[0;32m<ipython-input-54-7a04248efb00>\u001b[0m in \u001b[0;36mrobot_move_blink\u001b[0;34m(command_duration, robot_move_command, blink_cycle_duration)\u001b[0m\n\u001b[1;32m     22\u001b[0m             \u001b[0mperf_sleep\u001b[0m\u001b[0;34m(\u001b[0m\u001b[0mblink_cycle_duration\u001b[0m\u001b[0;34m/\u001b[0m\u001b[0;36m2\u001b[0m\u001b[0;34m)\u001b[0m\u001b[0;34m\u001b[0m\u001b[0;34m\u001b[0m\u001b[0m\n\u001b[1;32m     23\u001b[0m             \u001b[0mrobot\u001b[0m\u001b[0;34m.\u001b[0m\u001b[0mblinker_off\u001b[0m\u001b[0;34m(\u001b[0m\u001b[0mblinker_side\u001b[0m\u001b[0;34m)\u001b[0m\u001b[0;34m\u001b[0m\u001b[0;34m\u001b[0m\u001b[0m\n\u001b[0;32m---> 24\u001b[0;31m             \u001b[0mperf_sleep\u001b[0m\u001b[0;34m(\u001b[0m\u001b[0mblink_cycle_duration\u001b[0m\u001b[0;34m/\u001b[0m\u001b[0;36m2\u001b[0m\u001b[0;34m)\u001b[0m\u001b[0;34m\u001b[0m\u001b[0;34m\u001b[0m\u001b[0m\n\u001b[0m\u001b[1;32m     25\u001b[0m \u001b[0;34m\u001b[0m\u001b[0m\n\u001b[1;32m     26\u001b[0m     \u001b[0mrobot\u001b[0m\u001b[0;34m.\u001b[0m\u001b[0mstop\u001b[0m\u001b[0;34m(\u001b[0m\u001b[0;34m)\u001b[0m\u001b[0;34m\u001b[0m\u001b[0;34m\u001b[0m\u001b[0m\n",
      "\u001b[0;32m<ipython-input-35-188a1e281628>\u001b[0m in \u001b[0;36mperf_sleep\u001b[0;34m(for_n_seconds)\u001b[0m\n\u001b[1;32m      5\u001b[0m     \u001b[0mtime_to_wait\u001b[0m \u001b[0;34m=\u001b[0m \u001b[0mfor_n_seconds\u001b[0m\u001b[0;34m\u001b[0m\u001b[0;34m\u001b[0m\u001b[0m\n\u001b[1;32m      6\u001b[0m     \u001b[0;32mwhile\u001b[0m \u001b[0;34m(\u001b[0m\u001b[0mtime_counter\u001b[0m \u001b[0;34m<\u001b[0m \u001b[0mtime_to_wait\u001b[0m\u001b[0;34m)\u001b[0m\u001b[0;34m:\u001b[0m\u001b[0;34m\u001b[0m\u001b[0;34m\u001b[0m\u001b[0m\n\u001b[0;32m----> 7\u001b[0;31m         \u001b[0mtime_counter\u001b[0m \u001b[0;34m=\u001b[0m \u001b[0mtime\u001b[0m\u001b[0;34m.\u001b[0m\u001b[0mperf_counter\u001b[0m\u001b[0;34m(\u001b[0m\u001b[0;34m)\u001b[0m \u001b[0;34m-\u001b[0m \u001b[0mtime_start\u001b[0m\u001b[0;34m\u001b[0m\u001b[0;34m\u001b[0m\u001b[0m\n\u001b[0m\u001b[1;32m      8\u001b[0m \u001b[0;34m\u001b[0m\u001b[0m\n\u001b[1;32m      9\u001b[0m \u001b[0;34m\u001b[0m\u001b[0m\n",
      "\u001b[0;31mKeyboardInterrupt\u001b[0m: "
     ]
    }
   ],
   "source": [
    "# Solution\n",
    "\n",
    "time_to_wait = 2.3725\n",
    "\n",
    "def robot_move_blink(command_duration:float, robot_move_command:callable, blink_cycle_duration: float):\n",
    "    time_start = time.perf_counter()\n",
    "    time_counter = 0\n",
    "    blinker_side = None\n",
    "    if robot_move_command == robot.right : blinker_side = 0\n",
    "    elif robot_move_command == robot.left : blinker_side = 1\n",
    "\n",
    "    while(time_counter < command_duration):\n",
    "        time_counter = time.perf_counter() - time_start\n",
    "        robot_move_command()\n",
    "        if blinker_side != 1 and blinker_side != 0:\n",
    "            blinkers_on()\n",
    "            perf_sleep(blink_cycle_duration/2)\n",
    "            blinkers_off()\n",
    "            perf_sleep(blink_cycle_duration/2)\n",
    "        else:\n",
    "            robot.blinker_on(blinker_side)\n",
    "            perf_sleep(blink_cycle_duration/2)\n",
    "            robot.blinker_off(blinker_side)\n",
    "            perf_sleep(blink_cycle_duration/2)\n",
    "        \n",
    "    robot.stop()\n",
    "    \n",
    "robot_move_blink(time_to_wait, robot.forward, 0.75)\n",
    "robot_move_blink(time_to_wait, robot.backward, 0.25)\n",
    "robot_move_blink(time_to_wait, robot.right, 0.5)\n",
    "robot_move_blink(time_to_wait, robot.left, 0.5)"
   ]
  },
  {
   "cell_type": "markdown",
   "metadata": {},
   "source": [
    "---\n",
    "### Exercice 2.6. * §\n",
    "La question 2.3. est relativement simple car il y a un nombre entier de cycle - 1 cycle, 2 cycles, 10 cycles ... Le défi suivant consiste à faire une fonction qui fait clignoter pendant un certain temps peu importe où le cycle est rendu lors de l'arrêt.\n",
    "\n",
    "Développez une fonction qui permet de réaliser un clignotement selon cette signature :\n",
    "\n",
    "`blink(total_duration : float, cycle_duration : float = 1., percent_on : float = 0.5, begin_on : bool = True, end_off : bool = True) -> None`\n",
    "\n",
    "où :\n",
    " - `total_duration` indique la durée totale du clignotement\n",
    " - `cycle_duration` : indique la durée d'un cycle ouvert-fermé en secondes\n",
    " - `percent_on` : indique le pourcentage de la durée ouverte vs fermée (en % entre 0.0 et 1.0)\n",
    " - `begin_on` : indique si les phares sont ouverts ou fermés au début\n",
    " - `end_off` : indique si les phares sont ouverts ou fermés lorsque la fonction termine\n",
    "\n",
    "avec ces contraintes :\n",
    " - `total_duration >= 0.1`\n",
    " - `cycle_duration >= 0.1`\n",
    " - `0.0 <= percent_on <= 1.0`\n",
    "\n",
    "Cet exercice est plus difficile à ce moment-ci des exercices. Nous y reviendrons dans le projet final. L'important est d'au moins analyser cet énoncé et de comprendre les enjeux en place."
   ]
  },
  {
   "cell_type": "code",
   "execution_count": 53,
   "metadata": {},
   "outputs": [],
   "source": [
    "# Solution\n",
    "# ..."
   ]
  },
  {
   "cell_type": "code",
   "execution_count": null,
   "metadata": {},
   "outputs": [],
   "source": [
    "def blink(total_duration : float, cycle_duration : float = 1., percent_on : float = 0.5, begin_on : bool = True, end_off : bool = True) -> None:\n",
    "    if total_duration >= 0.1 and cycle_duration >= 0.1 and 0.0 <= percent_on <= 1.0:\n",
    "        time_start = time.perf_counter()\n",
    "        time_counter = 0\n",
    "        while (time_counter < total_duration):\n",
    "            time_counter = time.perf_counter() - time_start\n",
    "            blinkers_on() if begin_on else blinkers_off()\n",
    "            perf_sleep(cycle_duration * percent_on)\n",
    "            blinkers_off() if end_off else blinkers_on()\n",
    "            perf_sleep(cycle_duration * (1- percent_on))\n",
    "         \n",
    "         \n",
    "blink(5, begin_on = False, end_off = False)"
   ]
  }
 ],
 "metadata": {
  "interpreter": {
   "hash": "11938c6bc6919ae2720b4d5011047913343b08a43b18698fd82dedb0d4417594"
  },
  "kernelspec": {
   "display_name": "Python 3",
   "language": "python",
   "name": "python3"
  },
  "language_info": {
   "codemirror_mode": {
    "name": "ipython",
    "version": 3
   },
   "file_extension": ".py",
   "mimetype": "text/x-python",
   "name": "python",
   "nbconvert_exporter": "python",
   "pygments_lexer": "ipython3",
   "version": "3.7.3"
  }
 },
 "nbformat": 4,
 "nbformat_minor": 4
}
