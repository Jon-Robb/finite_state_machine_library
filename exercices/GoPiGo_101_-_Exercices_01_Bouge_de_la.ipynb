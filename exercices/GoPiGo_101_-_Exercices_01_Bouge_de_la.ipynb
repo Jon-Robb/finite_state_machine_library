{
 "cells": [
  {
   "cell_type": "markdown",
   "metadata": {},
   "source": [
    "---\n",
    "\n",
    "# Bouge de là!\n",
    "### GoPiGo 101 - Série d'exercices 1\n",
    "##### **Déplacements** simples du robot.\n",
    "\n",
    "---\n",
    "\n",
    "Les fonctions suivantes sont des commandes directes de déplacement :\n",
    " - `EasyGoPiGo3.forward` : avance\n",
    " - `EasyGoPiGo3.backward` : recule\n",
    " - `EasyGoPiGo3.right` : tourne à droite (seulement la roue gauche tourne)\n",
    " - `EasyGoPiGo3.left` : tourne à gauche (seulement la roue droite tourne)\n",
    " - `EasyGoPiGo3.stop` : arrêt\n",
    " \n",
    "**Attention** : assurez-vous d'être prudent lors de l'utilisation de ces fonction car elles n'offrent aucun contrôle sophistiqué et font bouger le robot immédiatement (à l'exception de `stop`). C'est à vous de mettre la logique en place pour interrompre ces opérations au bon moment.\n",
    "\n",
    "Autrement dit, ces fonctions n'offrent pas d'options via des arguments et leur action est directe. Le robot se déplace sans nuance et sans sécurité. L'instruction donnée est effective tant qu'une autre fonction n'est pas appelée pour changer l'instruction en cours. La stratégie consiste à mettre en place une certaine logique à même le code afin de changer le comportement du robot.\n",
    "\n",
    "**Important** : n'oubliez pas qu'il y a toujours le bouton **STOP** en haut à droite de la page web pour forcer l'arrêt immédiat du robot. Si vous n'êtes pas certain, soulevez les roues du robot pour faire des tests de base.\n",
    "\n",
    "### Démonstration"
   ]
  },
  {
   "cell_type": "code",
   "execution_count": 53,
   "metadata": {},
   "outputs": [],
   "source": [
    "import easygopigo3 as gpg\n",
    "import time\n",
    "\n",
    "robot = gpg.EasyGoPiGo3()\n",
    "time_to_wait = 0.5 # en secondes\n",
    "\n",
    "# Avance\n",
    "robot.forward()\n",
    "time.sleep(time_to_wait)\n",
    "robot.stop()\n",
    "time.sleep(time_to_wait)\n",
    "\n",
    "# Recule\n",
    "robot.backward()\n",
    "time.sleep(time_to_wait)\n",
    "robot.stop()\n",
    "time.sleep(time_to_wait)\n",
    "\n",
    "# Tourne à gauche\n",
    "robot.left()\n",
    "time.sleep(time_to_wait)\n",
    "robot.stop()\n",
    "time.sleep(time_to_wait)\n",
    "\n",
    "# Tourne à droite\n",
    "robot.right()\n",
    "time.sleep(time_to_wait)\n",
    "robot.stop()\n",
    "\n",
    "\n",
    "del time_to_wait\n",
    "del robot\n",
    "del time\n",
    "del gpg"
   ]
  },
  {
   "cell_type": "markdown",
   "metadata": {},
   "source": [
    "---\n",
    "### Préparation\n",
    "Faites la mise en place du code commun pour cette série d'exercices"
   ]
  },
  {
   "cell_type": "code",
   "execution_count": 1,
   "metadata": {},
   "outputs": [],
   "source": [
    "# Mise en place du code commun\n",
    "import easygopigo3 as gpg\n",
    "import time\n",
    "\n",
    "robot = gpg.EasyGoPiGo3()\n",
    "time_to_wait = 1 # en secondes\n"
   ]
  },
  {
   "cell_type": "markdown",
   "metadata": {},
   "source": [
    "---\n",
    "### Exercice 1.1.\n",
    "Faites avancer le robot en ligne droite pendant une seconde. Faites-le arrêter et reculer immédiatement. Faites en sorte qu'il s'arrête à son point de départ."
   ]
  },
  {
   "cell_type": "code",
   "execution_count": 2,
   "metadata": {},
   "outputs": [],
   "source": [
    "# Solution\n",
    "robot.forward()\n",
    "time.sleep(time_to_wait)\n",
    "robot.stop()\n",
    "robot.backward()\n",
    "time.sleep(time_to_wait)\n",
    "robot.stop()"
   ]
  },
  {
   "cell_type": "markdown",
   "metadata": {},
   "source": [
    "---\n",
    "### Exercice 1.2.\n",
    "Faites déplacer le robot de façon reproduire une forme en `S` avec 2 cycles complets : \n",
    "<pre>\n",
    " Démonstration d'un cycle complet.\n",
    " \n",
    "         +\n",
    "         |\n",
    "    _ _ /\n",
    "  /\n",
    " |\n",
    " *\n",
    "</pre>\n",
    "\n",
    "Où `*` représente le début d'un cycle et `+` représente la fin d'un cycle.\n",
    "\n",
    "Ce qui donne : `*avance-droite-avance-droite-avance-avance-gauche-avance-gauche-avance+`"
   ]
  },
  {
   "cell_type": "code",
   "execution_count": 8,
   "metadata": {},
   "outputs": [],
   "source": [
    "# Solution\n",
    "time_to_wait=0.3\n",
    "\n",
    "\n",
    "for _ in range(2):\n",
    "    robot.forward()\n",
    "    time.sleep(time_to_wait)\n",
    "    robot.right()\n",
    "    time.sleep(time_to_wait)\n",
    "    robot.forward()\n",
    "    time.sleep(time_to_wait)\n",
    "    robot.right()\n",
    "    time.sleep(time_to_wait)\n",
    "    robot.forward()\n",
    "    time.sleep(time_to_wait*2)\n",
    "    robot.left()\n",
    "    time.sleep(time_to_wait)\n",
    "    robot.forward()\n",
    "    time.sleep(time_to_wait)\n",
    "    robot.left()\n",
    "    time.sleep(time_to_wait)\n",
    "    robot.forward()\n",
    "    time.sleep(time_to_wait)\n",
    "    robot.stop()"
   ]
  },
  {
   "cell_type": "markdown",
   "metadata": {},
   "source": [
    "---\n",
    "### Exercice 1.3.\n",
    "D'abord, tentez de déterminer combien de temps il faut au robot pour faire un tour sur lui-même avec la fonction `right`. On vous demande d'utiliser une approche expérimentale où le résultat sera approximatif mais quand même relativement précis.\n",
    "\n",
    "Par la suite, faites une fonction qui permet au robot d'effectuer un mouvement en forme d'infinie _n_ fois (en forme de `8` couché). Après chaque cycle, le robot _devrait_ se retrouver à la même position et à la même orientation.\n",
    "<pre>\n",
    " Présentation du premier demi-cycle.\n",
    "            _ _\n",
    "          /     \\\n",
    "         *       |\n",
    "          \\ _ _ /\n",
    "\n",
    " Présentation du deuxième demi-cycle.\n",
    "    _ _ \n",
    "  /     \\\n",
    " |       *\n",
    "  \\ _ _ /\n",
    "\n",
    " Présentation du cycle complet.\n",
    "    _ _     _ _\n",
    "  /     \\ /     \\\n",
    " |       *       |\n",
    "  \\ _ _ / \\ _ _ /\n",
    "\n",
    " Où `*` représente le début et la fin d'un cycle.\n",
    "</pre>\n",
    "\n",
    "**Important** : vous remarquerez qu'il est impossible d'obtenir une valeur permettant de parcourir ce tracé plusieurs fois en retrouvant exactement la position et l'orientation initiale. Ne cherchez pas à trouver le temps idéale, il n'existe pas! Tentez plutôt de comprendre et d'expliquer pourquoi cette situation est inévitable."
   ]
  },
  {
   "cell_type": "code",
   "execution_count": 21,
   "metadata": {},
   "outputs": [],
   "source": [
    "# Solution\n",
    "time_to_wait=2\n",
    "\n",
    "def infinity_loop(n):\n",
    "    for _ in range(n):\n",
    "        robot.right()\n",
    "        time.sleep(time_to_wait)\n",
    "        robot.left()\n",
    "        time.sleep(time_to_wait)\n",
    "        robot.stop()\n",
    "    robot.stop()\n",
    "        \n",
    "infinity_loop(2)"
   ]
  },
  {
   "cell_type": "code",
   "execution_count": null,
   "metadata": {},
   "outputs": [],
   "source": []
  },
  {
   "cell_type": "code",
   "execution_count": null,
   "metadata": {},
   "outputs": [],
   "source": []
  }
 ],
 "metadata": {
  "interpreter": {
   "hash": "11938c6bc6919ae2720b4d5011047913343b08a43b18698fd82dedb0d4417594"
  },
  "kernelspec": {
   "display_name": "Python 3",
   "language": "python",
   "name": "python3"
  },
  "language_info": {
   "codemirror_mode": {
    "name": "ipython",
    "version": 3
   },
   "file_extension": ".py",
   "mimetype": "text/x-python",
   "name": "python",
   "nbconvert_exporter": "python",
   "pygments_lexer": "ipython3",
   "version": "3.7.3"
  }
 },
 "nbformat": 4,
 "nbformat_minor": 4
}
