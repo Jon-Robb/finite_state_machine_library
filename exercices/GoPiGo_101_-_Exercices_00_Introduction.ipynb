{
 "cells": [
  {
   "cell_type": "markdown",
   "metadata": {},
   "source": [
    "# GoPiGo 101\n",
    "Série d'exercices introductifs à la programmation `Python` pour le robot `GoPiGo3` avec l'environnement `Dexter OS`.\n",
    "\n",
    "Documentation essentielle :\n",
    " - [Dexter Industries : GoPiGo3 Documentation!](https://gopigo3.readthedocs.io/en/master/index.html)\n",
    " - [Dexter Industries : Sensor](https://di-sensors.readthedocs.io/en/master/index.html)"
   ]
  },
  {
   "cell_type": "markdown",
   "metadata": {},
   "source": [
    "## Description\n",
    "\n",
    "Cette série d'exercice vise un premier contact avec la programmation du robot GoPiGo3.\n",
    "\n",
    "Ces exercices sont orientés de façon à faire une introduction progressive des outils informatiques disponibles mais aussi des concepts fondamentaux importants. Ils sont informels et conçus de façon à s'amuser par la production de solutions simples et naïves.\n",
    "\n",
    "On y couvre notamment ces éléments :\n",
    " 1. déplacement simple du robot\n",
    " 2. manipulation des phares\n",
    " 3. écoute de la télécommande\n",
    " 4. manipulation de la diode arrière\n",
    " 5. lecture du télémètre\n",
    " 6. manipulation des yeux\n",
    " 7. commande des servo-moteurs\n",
    " 8. lecture du capteur d'intensité lumineuse\n",
    " 9. déplacement plus avancé du robot\n",
    " 10. opération de la caméra\n",
    " \n",
    "Certains exercices sont trivials alors que d'autres sont plus costauds. D'ailleurs, les numéros plus avancés sont indiqués par un astérisque __*__. Un solutionnaire vous sera donné mais sachez que ce n'est pas tous les exercices qui ont une solution disponible (ce symbole **§** indique qu'il n'y a pas de solution disponible)."
   ]
  },
  {
   "cell_type": "markdown",
   "metadata": {},
   "source": [
    "## Bibliothèque easygopigo3\n",
    "\n",
    "La compagnie `Dexter Industries`, les créateurs et producteurs du robot `GoPiGo3`, a développée une bibliothèque de programmation facile à utiliser disponible en plusieurs langages de programmation. Le module `Python` `easygopigo3` donne accès à cette _librairie_ et permet une intéraction facile du robot via une interface de programmation simple et efficace.\n",
    "\n",
    "La classe `EasyGoPiGo3` est disponible dans la bibliothèque `easygopigo3` et correspond au gestionnaire principale du robot. Il est essentiel de consulter la documentation pour réaliser les exercices et comprendre comment est construite une telle _librairie_.\n",
    "\n",
    "Voici un exemple de code pour démarrer :\n",
    "<pre>\n",
    "import easygopigo3 as gpg\n",
    "robot = gpg.EasyGoPiGo3()\n",
    "\n",
    "robot.xyz ...  # action à réaliser\n",
    "</pre>"
   ]
  },
  {
   "cell_type": "markdown",
   "metadata": {},
   "source": []
  }
 ],
 "metadata": {
  "interpreter": {
   "hash": "11938c6bc6919ae2720b4d5011047913343b08a43b18698fd82dedb0d4417594"
  },
  "kernelspec": {
   "display_name": "Python 3.9.1 64-bit",
   "language": "python",
   "name": "python3"
  },
  "language_info": {
   "codemirror_mode": {
    "name": "ipython",
    "version": 3
   },
   "file_extension": ".py",
   "mimetype": "text/x-python",
   "name": "python",
   "nbconvert_exporter": "python",
   "pygments_lexer": "ipython3",
   "version": "3.9.1"
  }
 },
 "nbformat": 4,
 "nbformat_minor": 4
}
