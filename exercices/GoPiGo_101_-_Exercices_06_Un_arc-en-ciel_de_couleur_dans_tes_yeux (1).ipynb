{
 "cells": [
  {
   "cell_type": "markdown",
   "metadata": {},
   "source": [
    "---\n",
    "\n",
    "# Un arc-en-ciel de couleurs dans tes yeux!\n",
    "### GoPiGo 101 - Série d'exercices 6\n",
    "##### Manipulation des **yeux**.\n",
    "\n",
    "Les yeux sont les deux diodes électroluminescentes (DEL ou _LED_ en anglais) de couleur configurable se trouvant au-dessus de la carte rouge `Dexter GoPiGo3`. Ces DEL représentent les yeux du robot `Dexter` imprimé en blanc au-dessus de la carte. Malheureusement, ils se trouvent partiellement obstrués par le câble de la caméra.\n",
    "\n",
    "---\n",
    "\n",
    "Les fonctions suivantes permettent la manipulation des yeux :\n",
    " - pour l'oeil gauche :\n",
    "     - `EasyGoPiGo3.set_left_eye_color` : détermine la couleur de l'oeil gauche\n",
    "     - `EasyGoPiGo3.close_left_eye` : éteint l'oeil gauche\n",
    "     - `EasyGoPiGo3.open_left_eye` : allume l'oeil gauche de la couleur effective\n",
    " - pour l'oeil droit :\n",
    "     - `EasyGoPiGo3.set_right_eye_color` : détermine la couleur de l'oeil droit\n",
    "     - `EasyGoPiGo3.close_right_eye` : éteint l'oeil droit\n",
    "     - `EasyGoPiGo3.open_right_eye` : allume l'oeil droit de la couleur effective\n",
    " - pour les 2 yeux à la fois :\n",
    "     - `asyGoPiGo3.set_eye_color` : détermine la couleur des deux yeux\n",
    "     - `asyGoPiGo3.close_eyes` : éteint les deux yeux\n",
    "     - `asyGoPiGo3.open_eyes` : allume les deux yeux de leur couleur effective\n",
    " - la couleur est déterminée par \n",
    "     - un tuple de trois entiers\n",
    "     - les trois valeurs représentent dans l'ordre la quantité de : rouge-vert-bleu\n",
    "     - chaque valeur est comprise dans l'intervalle [0, 255]\n",
    "     - par exemple :\n",
    "         - `(255, 0, 0)` pour rouge\n",
    "         - `(255, 128, 0)` pour orange\n",
    "         - `(255, 0, 255)` pour magenta\n",
    " \n",
    "**Important** : L'utilisation des yeux est un mécanisme puissant pour donner de la rétroaction. N'oubliez de garder en tête que :\n",
    " - lorsque vous changer la couleur d'un oeil par la fonction appropriée, la couleur ne change pas; il faut appeler la fonction permettant d'ouvrir l'oeil après avoir changé sa couleur\n",
    " - les couleurs sont difficiles à discernées près du blanc ou du noir\n",
    " - le blanc est vif et peut aveugler\n",
    " - mettre la couleur noir et allumer l'oeil peut donner l'impression que l'oeil est fermé\n",
    "\n",
    "### Démonstration"
   ]
  },
  {
   "cell_type": "code",
   "execution_count": 1,
   "metadata": {},
   "outputs": [],
   "source": [
    "import easygopigo3 as gpg\n",
    "import time\n",
    "\n",
    "robot = gpg.EasyGoPiGo3()\n",
    "time_to_wait = 1. # en secondes\n",
    "\n",
    "# l'oeil gauche magenta - l'oeil droit fermé\n",
    "robot.set_left_eye_color((255,0,255)) # couleur magenta\n",
    "robot.open_left_eye()\n",
    "time.sleep(time_to_wait)\n",
    "robot.close_left_eye()\n",
    "\n",
    "# l'oeil gauche fermé - l'oeil droit vert\n",
    "robot.set_right_eye_color((0,255,0)) # couleur vert\n",
    "robot.open_right_eye()\n",
    "time.sleep(time_to_wait)\n",
    "robot.close_right_eye()\n",
    "\n",
    "# les 2 yeux orangés\n",
    "robot.set_eye_color((255,128,0)) # couleur orangé\n",
    "robot.open_eyes()\n",
    "time.sleep(time_to_wait)\n",
    "robot.close_eyes()\n",
    "\n",
    "# une transition de noir à blanc pour l'oeil gauche et du rouge au bleu pour l'oeil droit\n",
    "for i in range(256):\n",
    "    robot.set_left_eye_color((i,i,i)) # niveau d'intensité\n",
    "    robot.set_right_eye_color((i,0,255-i)) # couleur de bleu à rouge en passant par un magenta de moyenne intensité\n",
    "    robot.open_eyes()\n",
    "    time.sleep(0.025)\n",
    "    \n",
    "time.sleep(time_to_wait)\n",
    "robot.close_eyes()\n",
    "\n",
    "\n",
    "del robot\n",
    "del time\n",
    "del gpg"
   ]
  },
  {
   "cell_type": "markdown",
   "metadata": {},
   "source": [
    "---\n",
    "### Préparation\n",
    "Faites la mise en place du code commun pour cette série d'exercices"
   ]
  },
  {
   "cell_type": "code",
   "execution_count": 1,
   "metadata": {},
   "outputs": [],
   "source": [
    "# Mise en place du code commun\n",
    "import easygopigo3 as gpg\n",
    "import time\n",
    "import math\n",
    "\n",
    "def perf_sleep(for_n_seconds : int = 0) -> None:\n",
    "    time_start = time.perf_counter()\n",
    "    time_counter = 0\n",
    "    time_to_wait = for_n_seconds\n",
    "    while (time_counter < time_to_wait):\n",
    "        time_counter = time.perf_counter() - time_start\n",
    "        \n",
    "class Color:\n",
    "    def __init__(self, r:int=255, g:int=255, b:int=255):\n",
    "        self.rgb = tuple((r, g, b))\n",
    "        \n",
    "    def blend(self, other_color, sin_time):\n",
    "        blended_color = []\n",
    "        for i in range(3):\n",
    "            blended_color.append(round(self.rgb[i]*sin_time + other_color[i]*(1.0-sin_time)))\n",
    "        return tuple(blended_color)\n",
    "    \n",
    "class Brain:\n",
    "    def __init__(self):\n",
    "        self.logic = gpg.EasyGoPiGo3()\n",
    "        self.eyes = {\"left\" : Eye(\"left\", self) , \"right\" : Eye(\"right\", self)}\n",
    "    \n",
    "    def activate_gyros(self, left_color:tuple, right_color:tuple, duration:int=30):\n",
    "        time_start = time.perf_counter()\n",
    "        time_counter = 0\n",
    "\n",
    "        while time_counter < duration:\n",
    "            time_counter = time.perf_counter() - time_start\n",
    "            sin_time = (math.sin(time_counter * math.tau) * 0.5) + 0.5\n",
    "            color1 = right_color.blend(left_color.rgb, sin_time)\n",
    "            self.eyes[\"left\"].change_color(color1)\n",
    "            color2 = left_color.blend(right_color.rgb, sin_time)\n",
    "            self.eyes[\"right\"].change_color(color2)\n",
    "            \n",
    "        self.logic.close_eyes()\n",
    "        \n",
    "    def activate_kiit(self):\n",
    "        pass\n",
    "\n",
    "class Eye:\n",
    "    def __init__(self, side:str, brain:Brain):\n",
    "        self.brain = brain\n",
    "        self.side = side\n",
    "        self.func_dict = {\"left\" : { \"set\" : self.brain.logic.set_left_eye_color, \n",
    "                                    \"open\" : self.brain.logic.open_left_eye, \n",
    "                                    \"close\" : self.brain.logic.close_left_eye}, \n",
    "                          \"right\" : { \"set\" : self.brain.logic.set_right_eye_color,\n",
    "                                     \"open\" : self.brain.logic.open_right_eye,\n",
    "                                     \"close\" : self.brain.logic.close_right_eye}}\n",
    "       \n",
    "        \n",
    "    def change_color(self, color:tuple):\n",
    "        self.func_dict[self.side][\"set\"](color)\n",
    "        self.func_dict[self.side][\"open\"]()        \n",
    "\n",
    "brain = Brain()\n"
   ]
  },
  {
   "cell_type": "markdown",
   "metadata": {},
   "source": [
    "---\n",
    "### Exercice 6.1.\n",
    "Faites apparaître sur les deux yeux à des intervals de 1.5 seconde chacune des 6 couleurs primaires et secondaires selon ce patron : rouge - jaune - vert - cyan - bleu - magenta.\n",
    "\n",
    "Assurez-vous de fermer les yeux en quittant."
   ]
  },
  {
   "cell_type": "code",
   "execution_count": 27,
   "metadata": {},
   "outputs": [],
   "source": [
    "robot = gpg.EasyGoPiGo3()\n",
    "\n",
    "robot.set_left_eye_color((255,0,255)) # couleur magenta\n",
    "robot.open_left_eye()\n",
    "robot.close_eyes()"
   ]
  },
  {
   "cell_type": "markdown",
   "metadata": {},
   "source": [
    "---\n",
    "### Exercice 6.2.\n",
    "Selon les instructions données par la télécommande, faites les opérations suivantes sur le robot :\n",
    "- `*` les opérations suivantes s'appliquent sur l'oeil gauche\n",
    "- `0` les opérations suivantes s'appliquent sur les 2 yeux à la fois (c'est la situation par défaut)\n",
    "- `#` les opérations suivantes s'appliquent sur l'oeil droit\n",
    "- `1` plus de rouge (incrément de 32 - maximum 255)\n",
    "- `2` plus de vert (incrément de 32 - maximum 255)\n",
    "- `3` plus de bleu (incrément de 32 - maximum 255)\n",
    "- `4` mettre le rouge au centre (128)\n",
    "- `5` mettre le vert au centre (128)\n",
    "- `6` mettre le bleu au centre (128)\n",
    "- `7` moins de rouge (décrément de 32 - minimum 0)\n",
    "- `8` moins de vert (décrément de 32 - minimum 0)\n",
    "- `9` moins de bleu (décrément de 32 - minimum 0)\n",
    "- `ok` terminer le programme\n",
    "\n",
    "Initialement, les yeux sont ouverts. L'oeil gauche est rouge alors que l'oeil droit est bleu.\n",
    "\n",
    "Les opérations suivantes sont en options pour les étudiants intéressés à explorer un autre espace de couleur. Les manipulations antérieures se font dans l'espace `RGB` alors qu'on propose ici de considérer la couleur dans l'espace `HSL` ou `HSV` à votre convenance :\n",
    "- `left` change la teinte dans le sens antihoraire de 12.5 %\n",
    "- `right` change la teinte dans le sens horaire de 12.5 %\n",
    "- `up` plus de lumière\n",
    "- `down` plus sombre\n",
    "\n",
    "Assurez-vous de fermer les yeux en quittant."
   ]
  },
  {
   "cell_type": "code",
   "execution_count": null,
   "metadata": {},
   "outputs": [],
   "source": [
    "# Solution\n",
    "class RemoteControl:\n",
    "    def __init__(self, remote_pattern:dict)\n",
    "        self.remote_pattern = remote_pattern\n",
    "        \n",
    "        \n",
    "        \n",
    "remote_pattern = { 0 : robot.forward,\n",
    "                  1 : robot.backward,\n",
    "                  2 : robot.right,\n",
    "                  3 : robot.left,\n",
    "                  4 : robot.stop }"
   ]
  },
  {
   "cell_type": "markdown",
   "metadata": {},
   "source": [
    "---\n",
    "### Exercice 6.3.\n",
    "Réalisez un effet visuel similaire aux gyrophares des voitures de police modernes. À chaque seconde, faites passer chaque oeil d'un rouge vers le bleu avec un effet de fondu pour reprendre ensuite en sens inverse du bleu vers le rouge. Les deux yeux doivent être en alternance.\n",
    "\n",
    "Faites cette opération pour 30 secondes et assurez-vous de fermer les yeux en quittant."
   ]
  },
  {
   "cell_type": "code",
   "execution_count": 2,
   "metadata": {},
   "outputs": [],
   "source": [
    "color1 = Color(255,0,0)\n",
    "color2 = Color(0,0,255)\n",
    "brain.activate_gyros(color1, color2, 4)"
   ]
  },
  {
   "cell_type": "markdown",
   "metadata": {},
   "source": [
    "---\n",
    "### Exercice 6.4.\n",
    "Faites un jeu de lumière comme la voiture _KITT_ de la série télévisée _Knight Rider_ (voir [ce petit vidéo](https://www.youtube.com/watch?v=WxE2xWZNfOc)). Évidemment, le vôtre sera très sobre avec seulement deux lumières."
   ]
  },
  {
   "cell_type": "code",
   "execution_count": 5,
   "metadata": {},
   "outputs": [],
   "source": [
    "# Solution\n",
    "brain.activate_gyros(Color(255,0,0), Color(0,0,0), 5)\n",
    "brain.logic.blinker_on(0)"
   ]
  },
  {
   "cell_type": "markdown",
   "metadata": {},
   "source": [
    "---\n",
    "### Exercice 6.5.\n",
    "Vous avez certainement remarqué que la librairie EasyGoPiGo3 offre plusieurs fonctionnalités pour modifier l'état du robot mais très peu pour connaître dans quel état il se trouve. C'est notamment le cas des yeux. Il est impossible de connaître leur couleur ou s'ils sont ouverts ou fermés.\n",
    "\n",
    "Faites une classe qui encapsule l'utilisation d'**un seul** oeil (permettant ainsi de connaître l'état de l'oeil). De plus, on veut améliorer le comportement de la classe EasyGoPiGo3 en allumant l'oeil lorsque sa couleur est modifiée. Finalement, on doit passer au constructeur :\n",
    " - le robot\n",
    " - une information indicant si cette instance représente l'oeil droit ou l'oeil gauche - gauche par défaut\n",
    " - l'état initial de l'oeil (ouvert ou fermé) - fermé par défaut\n",
    " - la couleur initiale de l'oeil - blanc par défaut\n",
    "\n",
    "Sur chacun des yeux, faites un effet de changement de couleur de votre cru.\n",
    "\n",
    "N'oubliez pas de fermer les yeux à la fin."
   ]
  },
  {
   "cell_type": "code",
   "execution_count": null,
   "metadata": {},
   "outputs": [],
   "source": [
    "# Solution\n",
    "# ..."
   ]
  }
 ],
 "metadata": {
  "interpreter": {
   "hash": "11938c6bc6919ae2720b4d5011047913343b08a43b18698fd82dedb0d4417594"
  },
  "kernelspec": {
   "display_name": "Python 3",
   "language": "python",
   "name": "python3"
  },
  "language_info": {
   "codemirror_mode": {
    "name": "ipython",
    "version": 3
   },
   "file_extension": ".py",
   "mimetype": "text/x-python",
   "name": "python",
   "nbconvert_exporter": "python",
   "pygments_lexer": "ipython3",
   "version": "3.7.3"
  }
 },
 "nbformat": 4,
 "nbformat_minor": 4
}
