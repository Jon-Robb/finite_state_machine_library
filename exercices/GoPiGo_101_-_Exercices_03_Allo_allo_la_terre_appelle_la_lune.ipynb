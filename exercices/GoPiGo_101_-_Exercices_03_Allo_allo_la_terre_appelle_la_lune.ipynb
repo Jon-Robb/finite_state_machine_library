{
 "cells": [
  {
   "cell_type": "markdown",
   "metadata": {},
   "source": [
    "---\n",
    "\n",
    "# Allo allo, la terre appelle la lune!\n",
    "### GoPiGo 101 - Série d'exercices 3\n",
    "##### Manipulation de la **télécommande**. \n",
    "\n",
    "Pour cet exercice, vous devez avoir connecté le récepteur infrarouge à un port analogique/numérique (`AD1` ou `AD2`). [Voir cette image](https://gopigo3.readthedocs.io/en/master/api-basic/structure.html#hardware-ports).\n",
    "\n",
    "---\n",
    "\n",
    "Les fonctions suivantes permettent la manipulation de la télécommande :\n",
    " - `EasyGoPiGo3.init_remote` : crée un objet `easysensors.Remote` permettant d'interagir avec la télécommande\n",
    " - `Remote.read` : retourne un code correspondant à la touche lue (un **entier** correspondant à l'index d'oû se trouve la touche dans ce tableau)\n",
    "   - `keycodes = ['', 'up', 'left', 'ok', 'right', 'down', '1', '2', '3', '4', '5', '6', '7', '8', '9', '*', '0', '#']`\n",
    "   - la valeur `keycodes[0]` (la valeur `''`) indique qu'il n'y a aucune touche d'appuyée\n",
    "   - une lecture erronnée retourne -1\n",
    " - `Remote.get_remote_code` : retourne une **chaîne de caractères** correspondant à la touche lue (soit la chaîne de caractères spécifiée par le tableau `keycodes`)\n",
    "\n",
    "\n",
    "**Important** : Vous remarquerez que la performance associée à l'usage de la télécommande est plutôt faible. D'ailleurs, on peut observer :\n",
    " - le temps de réponse est relativement lent\n",
    " - un seul bouton à la fois peut être détecté : si plusieurs touches sont actives, alors le résultat est équivalent à aucune touche\n",
    " - la réception est sensible à la distance et aux obstacles intermédiaires\n",
    " - la qualité de la réception est intermittente et il est relativement difficile de maintenir toujours la même performance\n",
    " - il n'y a pas de mécanisme de gestion d'action comme des écouteurs de style `on_key_pressed` et `on_key_released`\n",
    " - dans certains cas, la fonction `get_remote_code` ne fonctionne pas bien alors que la fonction `read` semble toujours foncionner\n",
    "\n",
    "Il faudra en tenir compte de toutes ces caractéristiques dans vos programmes.\n",
    "\n",
    "### Démonstration"
   ]
  },
  {
   "cell_type": "code",
   "execution_count": 21,
   "metadata": {},
   "outputs": [
    {
     "name": "stdout",
     "output_type": "stream",
     "text": [
      "Acquisition de la télécommande en cours...\n",
      "   ~~~[no key]~~~                    "
     ]
    },
    {
     "ename": "KeyboardInterrupt",
     "evalue": "",
     "output_type": "error",
     "traceback": [
      "\u001b[0;31m---------------------------------------------------------------------------\u001b[0m",
      "\u001b[0;31mKeyboardInterrupt\u001b[0m                         Traceback (most recent call last)",
      "\u001b[0;32m<ipython-input-21-51341f2b2a9b>\u001b[0m in \u001b[0;36m<module>\u001b[0;34m\u001b[0m\n\u001b[1;32m     12\u001b[0m \u001b[0mlonguest_string\u001b[0m \u001b[0;34m=\u001b[0m \u001b[0;36m20\u001b[0m \u001b[0;31m# longueur arbitraire, ne sert que pour l'affichage\u001b[0m\u001b[0;34m\u001b[0m\u001b[0;34m\u001b[0m\u001b[0m\n\u001b[1;32m     13\u001b[0m \u001b[0;32mwhile\u001b[0m \u001b[0mkey\u001b[0m \u001b[0;34m!=\u001b[0m \u001b[0;34m'ok'\u001b[0m\u001b[0;34m:\u001b[0m\u001b[0;34m\u001b[0m\u001b[0;34m\u001b[0m\u001b[0m\n\u001b[0;32m---> 14\u001b[0;31m     \u001b[0mkey\u001b[0m \u001b[0;34m=\u001b[0m \u001b[0mremote_control\u001b[0m\u001b[0;34m.\u001b[0m\u001b[0mget_remote_code\u001b[0m\u001b[0;34m(\u001b[0m\u001b[0;34m)\u001b[0m\u001b[0;34m\u001b[0m\u001b[0;34m\u001b[0m\u001b[0m\n\u001b[0m\u001b[1;32m     15\u001b[0m     \u001b[0mprint\u001b[0m\u001b[0;34m(\u001b[0m\u001b[0;34mf'\\r{key if key != \"\" else \"   ~~~[no key]~~~\"}'\u001b[0m\u001b[0;34m,\u001b[0m \u001b[0msep\u001b[0m\u001b[0;34m=\u001b[0m\u001b[0;34m''\u001b[0m\u001b[0;34m,\u001b[0m \u001b[0mend\u001b[0m\u001b[0;34m=\u001b[0m\u001b[0;34m' '\u001b[0m \u001b[0;34m*\u001b[0m \u001b[0mlonguest_string\u001b[0m\u001b[0;34m)\u001b[0m\u001b[0;34m\u001b[0m\u001b[0;34m\u001b[0m\u001b[0m\n\u001b[1;32m     16\u001b[0m \u001b[0;34m\u001b[0m\u001b[0m\n",
      "\u001b[0;32m/usr/local/lib/python3.7/dist-packages/gopigo3-1.2.0-py3.7.egg/easysensors.py\u001b[0m in \u001b[0;36mget_remote_code\u001b[0;34m(self)\u001b[0m\n\u001b[1;32m   1466\u001b[0m         \"\"\"\n\u001b[1;32m   1467\u001b[0m         \u001b[0mstring\u001b[0m \u001b[0;34m=\u001b[0m \u001b[0;34m\"\"\u001b[0m\u001b[0;34m\u001b[0m\u001b[0;34m\u001b[0m\u001b[0m\n\u001b[0;32m-> 1468\u001b[0;31m         \u001b[0mkey\u001b[0m \u001b[0;34m=\u001b[0m \u001b[0mself\u001b[0m\u001b[0;34m.\u001b[0m\u001b[0mread\u001b[0m\u001b[0;34m(\u001b[0m\u001b[0;34m)\u001b[0m\u001b[0;34m\u001b[0m\u001b[0;34m\u001b[0m\u001b[0m\n\u001b[0m\u001b[1;32m   1469\u001b[0m \u001b[0;34m\u001b[0m\u001b[0m\n\u001b[1;32m   1470\u001b[0m         \u001b[0;32mif\u001b[0m \u001b[0mkey\u001b[0m \u001b[0;34m>\u001b[0m \u001b[0;36m0\u001b[0m \u001b[0;32mand\u001b[0m \u001b[0mkey\u001b[0m \u001b[0;34m<\u001b[0m \u001b[0mlen\u001b[0m\u001b[0;34m(\u001b[0m\u001b[0mself\u001b[0m\u001b[0;34m.\u001b[0m\u001b[0mkeycodes\u001b[0m\u001b[0;34m)\u001b[0m\u001b[0;34m+\u001b[0m\u001b[0;36m1\u001b[0m\u001b[0;34m:\u001b[0m\u001b[0;34m\u001b[0m\u001b[0;34m\u001b[0m\u001b[0m\n",
      "\u001b[0;32m/usr/local/lib/python3.7/dist-packages/gopigo3-1.2.0-py3.7.egg/easysensors.py\u001b[0m in \u001b[0;36mread\u001b[0;34m(self)\u001b[0m\n\u001b[1;32m   1446\u001b[0m             \u001b[0m_ifMutexAcquire\u001b[0m\u001b[0;34m(\u001b[0m\u001b[0mself\u001b[0m\u001b[0;34m.\u001b[0m\u001b[0muse_mutex\u001b[0m\u001b[0;34m)\u001b[0m\u001b[0;34m\u001b[0m\u001b[0;34m\u001b[0m\u001b[0m\n\u001b[1;32m   1447\u001b[0m             \u001b[0mval\u001b[0m \u001b[0;34m=\u001b[0m \u001b[0mself\u001b[0m\u001b[0;34m.\u001b[0m\u001b[0mgpg\u001b[0m\u001b[0;34m.\u001b[0m\u001b[0mget_grove_value\u001b[0m\u001b[0;34m(\u001b[0m\u001b[0mself\u001b[0m\u001b[0;34m.\u001b[0m\u001b[0mget_port_ID\u001b[0m\u001b[0;34m(\u001b[0m\u001b[0;34m)\u001b[0m\u001b[0;34m)\u001b[0m\u001b[0;34m\u001b[0m\u001b[0;34m\u001b[0m\u001b[0m\n\u001b[0;32m-> 1448\u001b[0;31m             \u001b[0m_ifMutexRelease\u001b[0m\u001b[0;34m(\u001b[0m\u001b[0mself\u001b[0m\u001b[0;34m.\u001b[0m\u001b[0muse_mutex\u001b[0m\u001b[0;34m)\u001b[0m\u001b[0;34m\u001b[0m\u001b[0;34m\u001b[0m\u001b[0m\n\u001b[0m\u001b[1;32m   1449\u001b[0m             \u001b[0;32mreturn\u001b[0m \u001b[0mval\u001b[0m\u001b[0;34m\u001b[0m\u001b[0;34m\u001b[0m\u001b[0m\n\u001b[1;32m   1450\u001b[0m         \u001b[0;32mexcept\u001b[0m \u001b[0mgopigo3\u001b[0m\u001b[0;34m.\u001b[0m\u001b[0mSensorError\u001b[0m \u001b[0;32mas\u001b[0m \u001b[0me\u001b[0m\u001b[0;34m:\u001b[0m\u001b[0;34m\u001b[0m\u001b[0;34m\u001b[0m\u001b[0m\n",
      "\u001b[0;32m/usr/local/lib/python3.7/dist-packages/gopigo3-1.2.0-py3.7.egg/easysensors.py\u001b[0m in \u001b[0;36m_ifMutexRelease\u001b[0;34m(mutex_enabled)\u001b[0m\n\u001b[1;32m     33\u001b[0m     \"\"\"\n\u001b[1;32m     34\u001b[0m     \u001b[0;32mif\u001b[0m \u001b[0mmutex_enabled\u001b[0m \u001b[0;32mor\u001b[0m \u001b[0mmutex\u001b[0m\u001b[0;34m.\u001b[0m\u001b[0moverall_mutex\u001b[0m\u001b[0;34m(\u001b[0m\u001b[0;34m)\u001b[0m\u001b[0;34m==\u001b[0m\u001b[0;32mTrue\u001b[0m\u001b[0;34m:\u001b[0m\u001b[0;34m\u001b[0m\u001b[0;34m\u001b[0m\u001b[0m\n\u001b[0;32m---> 35\u001b[0;31m         \u001b[0mmutex\u001b[0m\u001b[0;34m.\u001b[0m\u001b[0mrelease\u001b[0m\u001b[0;34m(\u001b[0m\u001b[0;34m)\u001b[0m\u001b[0;34m\u001b[0m\u001b[0;34m\u001b[0m\u001b[0m\n\u001b[0m\u001b[1;32m     36\u001b[0m \u001b[0;34m\u001b[0m\u001b[0m\n\u001b[1;32m     37\u001b[0m \u001b[0;32mdef\u001b[0m \u001b[0mdebug\u001b[0m\u001b[0;34m(\u001b[0m\u001b[0min_str\u001b[0m\u001b[0;34m)\u001b[0m\u001b[0;34m:\u001b[0m\u001b[0;34m\u001b[0m\u001b[0;34m\u001b[0m\u001b[0m\n",
      "\u001b[0;32m/usr/local/lib/python3.7/dist-packages/Dexter_AutoDetection_and_I2C_Mutex-0.0.0-py3.7.egg/I2C_mutex.py\u001b[0m in \u001b[0;36mrelease\u001b[0;34m(self)\u001b[0m\n\u001b[1;32m     53\u001b[0m             \u001b[0mself\u001b[0m\u001b[0;34m.\u001b[0m\u001b[0mDexterLockI2C_handle\u001b[0m\u001b[0;34m.\u001b[0m\u001b[0mclose\u001b[0m\u001b[0;34m(\u001b[0m\u001b[0;34m)\u001b[0m\u001b[0;34m\u001b[0m\u001b[0;34m\u001b[0m\u001b[0m\n\u001b[1;32m     54\u001b[0m             \u001b[0mself\u001b[0m\u001b[0;34m.\u001b[0m\u001b[0mDexterLockI2C_handle\u001b[0m \u001b[0;34m=\u001b[0m \u001b[0;32mNone\u001b[0m\u001b[0;34m\u001b[0m\u001b[0;34m\u001b[0m\u001b[0m\n\u001b[0;32m---> 55\u001b[0;31m             \u001b[0mtime\u001b[0m\u001b[0;34m.\u001b[0m\u001b[0msleep\u001b[0m\u001b[0;34m(\u001b[0m\u001b[0;36m0.001\u001b[0m\u001b[0;34m)\u001b[0m\u001b[0;34m\u001b[0m\u001b[0;34m\u001b[0m\u001b[0m\n\u001b[0m\u001b[1;32m     56\u001b[0m \u001b[0;34m\u001b[0m\u001b[0m\n\u001b[1;32m     57\u001b[0m     \u001b[0;32mdef\u001b[0m \u001b[0menableDebug\u001b[0m\u001b[0;34m(\u001b[0m\u001b[0mself\u001b[0m\u001b[0;34m)\u001b[0m\u001b[0;34m:\u001b[0m\u001b[0;34m\u001b[0m\u001b[0;34m\u001b[0m\u001b[0m\n",
      "\u001b[0;31mKeyboardInterrupt\u001b[0m: "
     ]
    }
   ],
   "source": [
    "import easygopigo3 as gpg\n",
    "import time\n",
    "\n",
    "robot = gpg.EasyGoPiGo3()\n",
    "remote_control_port = 'AD1'\n",
    "remote_control = robot.init_remote(port=remote_control_port)\n",
    "\n",
    "\n",
    "# débute l'acquisition tant que la touche 'ok' n'a pas été appuyée\n",
    "print('Acquisition de la télécommande en cours...')\n",
    "key = ''\n",
    "longuest_string = 20 # longueur arbitraire, ne sert que pour l'affichage\n",
    "while key != 'ok':\n",
    "    key = remote_control.get_remote_code()\n",
    "    print(f'\\r{key if key != \"\" else \"   ~~~[no key]~~~\"}', sep='', end=' ' * longuest_string)\n",
    "    \n",
    "print('\\n','...acquisition terminée!')\n",
    "\n",
    "\n",
    "del remote_control\n",
    "del remote_control_port\n",
    "del robot\n",
    "del time\n",
    "del gpg"
   ]
  },
  {
   "cell_type": "markdown",
   "metadata": {},
   "source": [
    "---\n",
    "### Préparation\n",
    "Faites la mise en place du code commun pour cette série d'exercices"
   ]
  },
  {
   "cell_type": "code",
   "execution_count": 25,
   "metadata": {},
   "outputs": [],
   "source": [
    "import easygopigo3 as gpg\n",
    "import time\n",
    "\n",
    "robot = gpg.EasyGoPiGo3()\n",
    "remote_control_port = 'AD1'\n",
    "remote_control = robot.init_remote(port=remote_control_port)\n",
    "left_is_blinking = True\n",
    "right_is_blinking = True\n"
   ]
  },
  {
   "cell_type": "markdown",
   "metadata": {},
   "source": [
    "---\n",
    "### Exercice 3.1. \n",
    "Selon les instructions données par la télécommande, faites les opérations suivantes sur le déplacement du robot :\n",
    "- `up` avance\n",
    "- `down` recule\n",
    "- `right` tourne à droite\n",
    "- `left` tourne à gauche\n",
    "- `ok` arrête\n",
    "- `0` terminer le programme"
   ]
  },
  {
   "cell_type": "code",
   "execution_count": null,
   "metadata": {},
   "outputs": [],
   "source": [
    "command_dict = { \"up\" : robot.forward, \"down\" : robot.backward, \"right\" : robot.right, \"left\" : robot.left, \"ok\" : robot.stop }\n",
    "\n",
    "key = ''\n",
    "longuest_string = 20 # longueur arbitraire, ne sert que pour l'affichage\n",
    "while key != '0':\n",
    "    key = remote_control.get_remote_code()\n",
    "    if key in command_dict:\n",
    "        command_dict[key]()\n",
    "    print(f'\\r{key if key != \"\" else \"   ~~~[no key]~~~\"}', sep='', end=' ' * longuest_string)\n",
    "    "
   ]
  },
  {
   "cell_type": "markdown",
   "metadata": {},
   "source": [
    "---\n",
    "### Exercice 3.2.\n",
    "Utilisez le robot pour faire une mini calculatrice! \n",
    "\n",
    "Ces touches de la télécommande servent à :\n",
    " - de `0` à `9` : le nombre correspondant\n",
    " - `left` : l'addition\n",
    " - `right` : la soustraction\n",
    " - `ok` : effectue le calcul des informations entrées et termine le programme.\n",
    " \n",
    "_Indice_ simplifiant cet exercice : la fonction `eval` permet l'exécution d'une instruction `Python` existant sous forme de chaîne de caractères. Évidemment, mettre cette _évaluation_ sous surveillance `try` permet de gérer les cas où la chaîne de caractères est invalide.\n",
    "\n",
    "Par exemple, `eval('123 + 321')` donne le résultat `444`."
   ]
  },
  {
   "cell_type": "code",
   "execution_count": 29,
   "metadata": {},
   "outputs": [
    {
     "name": "stdout",
     "output_type": "stream",
     "text": [
      "1\n",
      "12\n",
      "123\n",
      "Not a number\n",
      "123\n",
      "1234\n",
      "12345\n",
      "123456\n",
      "Not a number\n",
      "123456\n",
      "Not a number\n",
      "123456-\n",
      "Not a number\n",
      "123456-\n",
      "123456-1\n",
      "Not a number\n",
      "123456-1\n",
      "123456-11\n",
      "Not a number\n",
      "123456-11\n",
      "123456-111\n",
      "Not a number\n",
      "123456-111\n",
      "123345\n"
     ]
    }
   ],
   "source": [
    "key = ''\n",
    "equation = ''\n",
    "previous_key = '-1'\n",
    "longuest_string = 20 # longueur arbitraire, ne sert que pour l'affichage\n",
    "while key != 'ok':\n",
    "    key = remote_control.get_remote_code()\n",
    "    if key != '' and previous_key != key:\n",
    "        try:\n",
    "            if 0 <= int(key) <= 9:\n",
    "                equation = equation + key\n",
    "        except: print('Not a number')\n",
    "        if key == 'left':\n",
    "            equation = equation + '+'\n",
    "        elif key == 'right':\n",
    "            equation = equation + '-'\n",
    "        previous_key = key\n",
    "        print(equation)\n",
    "try:\n",
    "    print(eval(equation))\n",
    "except: \n",
    "    print('chaine invalide')    \n",
    "    "
   ]
  },
  {
   "cell_type": "markdown",
   "metadata": {},
   "source": [
    "---\n",
    "### Exercice 3.3.\n",
    "Faites une boucle de _x_ secondes qui tourne le plus rapidement possible. Cette boucle doit calculer le nombre de fois que chacune des 17 touches est appuyés et l'afficher à l'écran. Vous devez utiliser la fonction `Remote.read`. Ne faites pas de `wait` pour ralentir le programme.\n",
    "\n",
    "Faites une version qui affiche le résultat après le temps écoulé et une autre version qui affiche le résultat pendant les mesures. Dans tous les cas, faites afficher le nombre total de touches appuyées à la toute fin."
   ]
  },
  {
   "cell_type": "code",
   "execution_count": null,
   "metadata": {},
   "outputs": [],
   "source": [
    "# Solution\n",
    "# ..."
   ]
  },
  {
   "cell_type": "markdown",
   "metadata": {},
   "source": [
    "---\n",
    "### Exercice 3.4.\n",
    "Utilisez la télécommande pour contrôler les phares. Voici le actions à donner aux touches :\n",
    " - `1`, `4` et `7` : faites clignoter uniquement le phare gauche aux fréquences suivantes : 1.5 secondes, 1.0 secondes et 0.5 secondes\n",
    " - `2`, `5` et `8` : faites clignoter les 2 phares aux fréquences suivantes : 1.5 secondes, 1.0 secondes et 0.5 secondes\n",
    " - `3`, `6` et `9` : faites clignoter uniquement le phare droit aux fréquences suivantes : 1.5 secondes, 1.0 secondes et 0.5 secondes\n",
    " - `0` : arrête tout clignotement\n",
    " - `ok` arrête le programme\n",
    "\n",
    "Assurez-vous que les phares soient éteints à la sortie du programme.\n",
    "\n",
    "**Attention** : vous ne pouvez pas faire de `wait` pour bloquer le programme!"
   ]
  },
  {
   "cell_type": "code",
   "execution_count": 24,
   "metadata": {},
   "outputs": [
    {
     "name": "stdout",
     "output_type": "stream",
     "text": [
      "Acquisition de la télécommande en cours...\n"
     ]
    },
    {
     "ename": "KeyError",
     "evalue": "''",
     "output_type": "error",
     "traceback": [
      "\u001b[0;31m---------------------------------------------------------------------------\u001b[0m",
      "\u001b[0;31mKeyError\u001b[0m                                  Traceback (most recent call last)",
      "\u001b[0;32m<ipython-input-24-bae645485a54>\u001b[0m in \u001b[0;36m<module>\u001b[0;34m\u001b[0m\n\u001b[1;32m     35\u001b[0m \u001b[0;32mwhile\u001b[0m \u001b[0mkey\u001b[0m \u001b[0;34m!=\u001b[0m \u001b[0;34m'ok'\u001b[0m\u001b[0;34m:\u001b[0m\u001b[0;34m\u001b[0m\u001b[0;34m\u001b[0m\u001b[0m\n\u001b[1;32m     36\u001b[0m     \u001b[0mkey\u001b[0m \u001b[0;34m=\u001b[0m \u001b[0mremote_control\u001b[0m\u001b[0;34m.\u001b[0m\u001b[0mget_remote_code\u001b[0m\u001b[0;34m(\u001b[0m\u001b[0;34m)\u001b[0m\u001b[0;34m\u001b[0m\u001b[0;34m\u001b[0m\u001b[0m\n\u001b[0;32m---> 37\u001b[0;31m     \u001b[0mblink_blinker\u001b[0m\u001b[0;34m(\u001b[0m\u001b[0mcommand_dict\u001b[0m\u001b[0;34m[\u001b[0m\u001b[0mkey\u001b[0m\u001b[0;34m]\u001b[0m\u001b[0;34m[\u001b[0m\u001b[0;36m0\u001b[0m\u001b[0;34m]\u001b[0m\u001b[0;34m,\u001b[0m\u001b[0mcommand_dict\u001b[0m\u001b[0;34m[\u001b[0m\u001b[0mkey\u001b[0m\u001b[0;34m]\u001b[0m\u001b[0;34m[\u001b[0m\u001b[0;36m1\u001b[0m\u001b[0;34m]\u001b[0m\u001b[0;34m)\u001b[0m\u001b[0;34m\u001b[0m\u001b[0;34m\u001b[0m\u001b[0m\n\u001b[0m\u001b[1;32m     38\u001b[0m \u001b[0;34m\u001b[0m\u001b[0m\n\u001b[1;32m     39\u001b[0m \u001b[0mprint\u001b[0m\u001b[0;34m(\u001b[0m\u001b[0;34m'\\n'\u001b[0m\u001b[0;34m,\u001b[0m\u001b[0;34m'...acquisition terminée!'\u001b[0m\u001b[0;34m)\u001b[0m\u001b[0;34m\u001b[0m\u001b[0;34m\u001b[0m\u001b[0m\n",
      "\u001b[0;31mKeyError\u001b[0m: ''"
     ]
    }
   ],
   "source": [
    "# Solution\n",
    "def perf_sleep(for_n_seconds : int = 0) -> None:\n",
    "    time_start = time.perf_counter()\n",
    "    time_counter = 0\n",
    "    time_to_wait = for_n_seconds\n",
    "    while (time_counter < time_to_wait):\n",
    "        time_counter = time.perf_counter() - time_start\n",
    "        \n",
    "def blinkers_on():\n",
    "    robot.blinker_on(0) # 0 = droite\n",
    "    robot.blinker_on(1) # 1 = gauche\n",
    "\n",
    "def blinkers_off():\n",
    "    robot.blinker_off(0) # int ou str\n",
    "    robot.blinker_off(1) # int ou str\n",
    "    \n",
    "def blink_blinker(frequency:float, blinker_side:int=None ) -> None:\n",
    "    if blinker_side:\n",
    "        robot.blinker_on(blinker_side)\n",
    "        perf_sleep(frequency/2)\n",
    "        robot.blinker_off(blinker_side)\n",
    "        perf_sleep(frequency/2)\n",
    "    else:\n",
    "        blinkers_on()\n",
    "        perf_sleep(frequency/2)\n",
    "        blinkers_off()\n",
    "        perf_sleep(frequency/2)\n",
    "\n",
    "command_dict = { \"1\" : (1.5, 1), \"4\" : (1., 1), \"7\" : (0.5, 1), \"left\" : robot.left, \"ok\" : robot.stop }\n",
    "\n",
    "# débute l'acquisition tant que la touche 'ok' n'a pas été appuyée\n",
    "print('Acquisition de la télécommande en cours...')\n",
    "key = ''\n",
    "longuest_string = 20 # longueur arbitraire, ne sert que pour l'affichage\n",
    "while key != 'ok':\n",
    "    key = remote_control.get_remote_code()\n",
    "    blink_blinker(command_dict[key][0],command_dict[key][1])\n",
    "    \n",
    "print('\\n','...acquisition terminée!')\n"
   ]
  },
  {
   "cell_type": "markdown",
   "metadata": {},
   "source": [
    "---\n",
    "### Exercice 3.5. *\n",
    "Utilisez la télécommande pour contrôler les phares. Ce programme modifie l'état des phares selon une certaine logique. Voici le sens à donner aux touches :\n",
    " - Les 3 paramètres à manipuler sont :\n",
    "  - phare à faire clignoter :\n",
    "    - `*` : bascule l'état de clignotement du phare de gauche (clignote - ne clignote pas - clignote - ne clignote pas - ...)\n",
    "    - `#` : bascule l'état de clignotement du phare de droite (clignote - ne clignote pas - clignote - ne clignote pas - ...)\n",
    "    - par défaut, les phares clignotent\n",
    "  - durée du cycle :\n",
    "    - débute à 1.0 secondes\n",
    "    - `left` : réduit la durée du cycle \n",
    "      - incrément par interval de 0.25\n",
    "      - minimum de 0.25 seconde\n",
    "    - `right` : augmente la durée du cycle \n",
    "      - incrément par interval de 0.25\n",
    "      - maximum de 2.5 seconde\n",
    "  - ratio ouvert/fermé :\n",
    "    - débute à 0.5\n",
    "    - `up` : augmente la proportion où le phare est allumé \n",
    "      - incrément par interval de 0.1\n",
    "      - maximum de 1.0\n",
    "    - `down` : réduit la proportion où le phare est allumé \n",
    "      - incrément par interval de 0.1\n",
    "      - minimum de 0.0\n",
    " - `0` : arrête tout clignotement et remet toutes les valeurs par défaut\n",
    " - `ok` arrête le programme\n",
    " \n",
    "Vous devez vous assurer qu'il y ait une forme de temporisation sur la lecture de la télécommande pour ne pas passer d'un état à l'autre trop rapidement. Par exemple, un délai d'un quart de seconde peut être satisfaisant. Assurez-vous que les phares soient éteints à la sortie du programme.\n",
    "\n",
    "**Attention** : à cause de la lecture de la télécommande, vous ne pouvez pas faire de `wait` pour bloquer le programme!"
   ]
  },
  {
   "cell_type": "code",
   "execution_count": 28,
   "metadata": {},
   "outputs": [
    {
     "ename": "UnboundLocalError",
     "evalue": "local variable 'right_is_blinking' referenced before assignment",
     "output_type": "error",
     "traceback": [
      "\u001b[0;31m---------------------------------------------------------------------------\u001b[0m",
      "\u001b[0;31mUnboundLocalError\u001b[0m                         Traceback (most recent call last)",
      "\u001b[0;32m<ipython-input-28-a1e18f245410>\u001b[0m in \u001b[0;36m<module>\u001b[0;34m\u001b[0m\n\u001b[1;32m     94\u001b[0m     \u001b[0mkey\u001b[0m \u001b[0;34m=\u001b[0m \u001b[0mremote_control\u001b[0m\u001b[0;34m.\u001b[0m\u001b[0mget_remote_code\u001b[0m\u001b[0;34m(\u001b[0m\u001b[0;34m)\u001b[0m\u001b[0;34m\u001b[0m\u001b[0;34m\u001b[0m\u001b[0m\n\u001b[1;32m     95\u001b[0m     \u001b[0;32mif\u001b[0m \u001b[0mkey\u001b[0m \u001b[0;34m!=\u001b[0m \u001b[0;34m''\u001b[0m \u001b[0;32mand\u001b[0m \u001b[0mprevious_key\u001b[0m \u001b[0;34m!=\u001b[0m \u001b[0mkey\u001b[0m \u001b[0;32mand\u001b[0m \u001b[0mkey\u001b[0m \u001b[0;32min\u001b[0m \u001b[0mcommand_dict\u001b[0m\u001b[0;34m:\u001b[0m\u001b[0;34m\u001b[0m\u001b[0;34m\u001b[0m\u001b[0m\n\u001b[0;32m---> 96\u001b[0;31m         \u001b[0mcommand_dict\u001b[0m\u001b[0;34m[\u001b[0m\u001b[0mkey\u001b[0m\u001b[0;34m]\u001b[0m\u001b[0;34m(\u001b[0m\u001b[0;34m)\u001b[0m\u001b[0;34m\u001b[0m\u001b[0;34m\u001b[0m\u001b[0m\n\u001b[0m\u001b[1;32m     97\u001b[0m         \u001b[0mprevious_key\u001b[0m \u001b[0;34m=\u001b[0m \u001b[0mkey\u001b[0m\u001b[0;34m\u001b[0m\u001b[0;34m\u001b[0m\u001b[0m\n\u001b[1;32m     98\u001b[0m         \u001b[0mprint\u001b[0m\u001b[0;34m(\u001b[0m\u001b[0mcommand_dict\u001b[0m\u001b[0;34m[\u001b[0m\u001b[0mkey\u001b[0m\u001b[0;34m]\u001b[0m\u001b[0;34m)\u001b[0m\u001b[0;34m\u001b[0m\u001b[0;34m\u001b[0m\u001b[0m\n",
      "\u001b[0;32m<ipython-input-28-a1e18f245410>\u001b[0m in \u001b[0;36mtoggle_right_blink\u001b[0;34m()\u001b[0m\n\u001b[1;32m     76\u001b[0m \u001b[0;34m\u001b[0m\u001b[0m\n\u001b[1;32m     77\u001b[0m \u001b[0;32mdef\u001b[0m \u001b[0mtoggle_right_blink\u001b[0m\u001b[0;34m(\u001b[0m\u001b[0;34m)\u001b[0m\u001b[0;34m:\u001b[0m\u001b[0;34m\u001b[0m\u001b[0;34m\u001b[0m\u001b[0m\n\u001b[0;32m---> 78\u001b[0;31m     \u001b[0;32mif\u001b[0m \u001b[0;32mnot\u001b[0m \u001b[0mright_is_blinking\u001b[0m\u001b[0;34m:\u001b[0m\u001b[0;34m\u001b[0m\u001b[0;34m\u001b[0m\u001b[0m\n\u001b[0m\u001b[1;32m     79\u001b[0m         \u001b[0mactivate_blink\u001b[0m\u001b[0;34m(\u001b[0m\u001b[0;36m1\u001b[0m\u001b[0;34m)\u001b[0m\u001b[0;34m\u001b[0m\u001b[0;34m\u001b[0m\u001b[0m\n\u001b[1;32m     80\u001b[0m         \u001b[0mprint\u001b[0m\u001b[0;34m(\u001b[0m\u001b[0;34m'activate right'\u001b[0m\u001b[0;34m)\u001b[0m\u001b[0;34m\u001b[0m\u001b[0;34m\u001b[0m\u001b[0m\n",
      "\u001b[0;31mUnboundLocalError\u001b[0m: local variable 'right_is_blinking' referenced before assignment"
     ]
    }
   ],
   "source": [
    "global left_is_blinking\n",
    "global right_is_blinking\n",
    "left_is_blinking = True\n",
    "right_is_blinking = True\n",
    "cycle_d = 1\n",
    "ratio = .5\n",
    "key = ''\n",
    "previous_key = '-1'\n",
    "longuest_string = 20 # longueur arbitraire, ne sert que pour l'affichage\n",
    "min_ratio = 0\n",
    "max_ratio = 1\n",
    "min_cycle_duration = 0.25\n",
    "max_cycle_duration = 2.5\n",
    "default_ratio = 0.5\n",
    "default_cycle_duration = 1.0\n",
    "\n",
    "def blinkers_on():\n",
    "    robot.blinker_on(0) # 0 = droite\n",
    "    robot.blinker_on(1) # 1 = gauche\n",
    "\n",
    "def blinkers_off():\n",
    "    robot.blinker_off(0) # int ou str\n",
    "    robot.blinker_off(1) # int ou str\n",
    "\n",
    "def stop_and_reset():\n",
    "    blinkers_off()\n",
    "    ratio = default_ratio\n",
    "    cycle_d = default_cycle_duration\n",
    "    \n",
    "\n",
    "def increment_cycle_duration():\n",
    "    if cycle_d < max_cycle_duration:\n",
    "        cycle_d += 0.25\n",
    "        \n",
    "def decrement_cycle_duration():\n",
    "    if cycle_d > min_cycle_duration:\n",
    "        cycle_d -= 0.25\n",
    "\n",
    "def increment_ratio():\n",
    "    if ratio < max_ratio:\n",
    "        ratio += 0.1\n",
    "        \n",
    "def decrement_ratio():\n",
    "    if min_ratio < ratio:\n",
    "        ratio -= 0.1\n",
    "\n",
    "def perf_sleep(for_n_seconds : int = 0) -> None:\n",
    "    time_start = time.perf_counter()\n",
    "    time_counter = 0\n",
    "    time_to_wait = for_n_seconds\n",
    "    while (time_counter < time_to_wait):\n",
    "        time_counter = time.perf_counter() - time_start\n",
    "\n",
    "def activate_blink(side:int=None, cycle_duration:float=1., ratio:float=.5):\n",
    "    if side: \n",
    "        robot.blinker_on(side)\n",
    "        perf_sleep(cycle_duration * ratio)\n",
    "        robot.blinker_off(side)\n",
    "        perf_sleep(cycle_duration * ( 1 - ratio))\n",
    "    else:\n",
    "        blinkers_on()\n",
    "        perf_sleep(cycle_d)\n",
    "        blinkers_off()\n",
    "        perf_sleep(cycle_d)\n",
    "\n",
    "        \n",
    "def deactivate_blink(side:int):\n",
    "    robot.blinker_off(side)\n",
    "        \n",
    "def toggle_left_blink():\n",
    "    if not left_is_blinking:\n",
    "        activate_blink(0)\n",
    "    else: \n",
    "        deactivate_blink(0)\n",
    "    left_is_blinking = !left_is_blinking\n",
    "    \n",
    "def toggle_right_blink():\n",
    "    if not right_is_blinking:\n",
    "        activate_blink(1)\n",
    "        print('activate right')\n",
    "    else: \n",
    "        print('deactivate right')\n",
    "        deactivate_blink(1)\n",
    "    right_is_blinking = !right_is_blinking\n",
    "    \n",
    "command_dict = { \"up\" : increment_ratio, \"down\" : decrement_ratio, \"right\" : increment_cycle_duration, \n",
    "                \"left\" : decrement_cycle_duration, \"0\": stop_and_reset,\n",
    "               \"*\": toggle_left_blink , \"#\": toggle_right_blink }\n",
    "\n",
    "\n",
    "\n",
    "while key != 'ok':\n",
    "    #activate_blink()\n",
    "    key = remote_control.get_remote_code()\n",
    "    if key != '' and previous_key != key and key in command_dict:\n",
    "        command_dict[key]()\n",
    "        previous_key = key\n",
    "        print(command_dict[key])\n",
    "    #print(f'\\r{key if key != \"\" else \"   ~~~[no key]~~~\"}', sep='', end=' ' * longuest_string)\n",
    "        \n",
    "   \n",
    "    \n",
    "\n",
    "    "
   ]
  },
  {
   "cell_type": "markdown",
   "metadata": {},
   "source": [
    "---\n",
    "### Exercice 3.6. *\n",
    "Faites l'implémentation d'une petite librairie réalisant le patron de conception observateur (_observer_) avec la télécommande. Autrement dit, vous implémentez une boucle de lecture en permanance qui, appelle les fonctions enregistrées pour les évènements `on_key_pressed` et `on_key_released`. Dans les deux cas, on doit faire passer en argument la touche concernée.\n",
    "\n",
    "Lorque votre outil est disponible, utilisez-le pour cette application : simplement afficher une chaîne de caractère qui décrit un évènement `on_key_pressed` ou `on_key_released` lorqu'il arrive."
   ]
  },
  {
   "cell_type": "code",
   "execution_count": null,
   "metadata": {},
   "outputs": [],
   "source": [
    "# Solution\n",
    "# ..."
   ]
  }
 ],
 "metadata": {
  "interpreter": {
   "hash": "11938c6bc6919ae2720b4d5011047913343b08a43b18698fd82dedb0d4417594"
  },
  "kernelspec": {
   "display_name": "Python 3",
   "language": "python",
   "name": "python3"
  },
  "language_info": {
   "codemirror_mode": {
    "name": "ipython",
    "version": 3
   },
   "file_extension": ".py",
   "mimetype": "text/x-python",
   "name": "python",
   "nbconvert_exporter": "python",
   "pygments_lexer": "ipython3",
   "version": "3.7.3"
  }
 },
 "nbformat": 4,
 "nbformat_minor": 4
}
