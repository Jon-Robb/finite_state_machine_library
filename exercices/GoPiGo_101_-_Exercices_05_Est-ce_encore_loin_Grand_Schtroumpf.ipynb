{
 "cells": [
  {
   "cell_type": "markdown",
   "metadata": {},
   "source": [
    "---\n",
    "\n",
    "# Est-ce encore loin Grand Schtroumpf?\n",
    "### GoPiGo 101 - Série d'exercices 5\n",
    "##### Manipulation du **télémètre** (capteur de distance).\n",
    "\n",
    "Pour cet exercice, vous devez avoir installé et connecté le télémètre sur l'un des ports `I2C`. [Voir cette image](https://gopigo3.readthedocs.io/en/master/api-basic/structure.html#hardware-ports).\n",
    "\n",
    "---\n",
    "\n",
    "Les fonctions suivantes permettent la manipulation du capteur de distance :\n",
    " - `EasyGoPiGo3.init_distance_sensor` retourne un objet `EasyDistanceSensor`\n",
    " - `EasyDistanceSensor.read_mm` retourne la distance lue en millimètre\n",
    "     - domaine en millimètre : [5, 2300]\n",
    "     - valeur obtenue sans cible détectée : 3000\n",
    "     - précision : ~1 millimètre\n",
    " - `EasyDistanceSensor.read` retourne la distance lue en centimètre\n",
    "     - domaine en centimètre : [0, 230]\n",
    "     - valeur obtenue sans cible détectée : 300\n",
    "     - précision : ~1 centimètre\n",
    " - `EasyDistanceSensor.read_inches` retourne la distance lue en pouces\n",
    "     - domaine en pouce : [0, 90]\n",
    "     - valeur obtenue sans cible détectée : > 90\n",
    "     - précision : ~0.1\"\n",
    " \n",
    "**Important** : Vous remarquerez que la performance associée à l'usage du télémètre est intéressante mais limitée. D'ailleurs, on peut observer :\n",
    " - le temps de réponse est relativement lent\n",
    " - la résolution n'est peut-être pas aussi fine qu'on le voudrait mais au moins elle est connue\n",
    "\n",
    "### Démonstration"
   ]
  },
  {
   "cell_type": "code",
   "execution_count": 3,
   "metadata": {},
   "outputs": [
    {
     "name": "stdout",
     "output_type": "stream",
     "text": [
      "La distance en centimètre est 7 cm\n",
      " - retourne un nombre entier entre 0 et 230 centimètres\n",
      " - la valeur 300 correspond à une lecture hors de portée\n",
      "--------------------------------------------------------------------------------\n",
      "La distance en millimètre est 77 mm\n",
      " - retourne un nombre entier entre 5 et 2300 centimètres\n",
      " - la valeur 3000 correspond à une lecture hors de portée\n",
      "--------------------------------------------------------------------------------\n",
      "La distance en pouces est : 2.8\"\n",
      " - retourne un nombre réel entre 0. et 90. pouces (avec une précision de 1 chiffre)\n",
      " - une valeur supérieure à 90 correspond à une lecture hors de portée\n"
     ]
    }
   ],
   "source": [
    "import easygopigo3 as gpg\n",
    "import time\n",
    "\n",
    "robot = gpg.EasyGoPiGo3()\n",
    "distance_sensor_port = 'I2C'\n",
    "distance_sensor = robot.init_distance_sensor(distance_sensor_port)\n",
    "separator_length = 80\n",
    "\n",
    "print(f'La distance en centimètre est {distance_sensor.read()} cm')\n",
    "print(f' - retourne un nombre entier entre 0 et 230 centimètres')\n",
    "print(f' - la valeur 300 correspond à une lecture hors de portée')\n",
    "print('-' * separator_length)\n",
    "print(f'La distance en millimètre est {distance_sensor.read_mm()} mm')\n",
    "print(f' - retourne un nombre entier entre 5 et 2300 centimètres')\n",
    "print(f' - la valeur 3000 correspond à une lecture hors de portée')\n",
    "print('-' * separator_length)\n",
    "print(f'La distance en pouces est : {distance_sensor.read_inches()}\"')\n",
    "print(f' - retourne un nombre réel entre 0. et 90. pouces (avec une précision de 1 chiffre)')\n",
    "print(f' - une valeur supérieure à 90 correspond à une lecture hors de portée')\n",
    "\n",
    "del distance_sensor\n",
    "del distance_sensor_port\n",
    "del robot\n",
    "del time\n",
    "del gpg"
   ]
  },
  {
   "cell_type": "markdown",
   "metadata": {},
   "source": [
    "---\n",
    "### Préparation\n",
    "Faites la mise en place du code commun pour cette série d'exercices"
   ]
  },
  {
   "cell_type": "code",
   "execution_count": 29,
   "metadata": {},
   "outputs": [],
   "source": [
    "import easygopigo3 as gpg\n",
    "import time\n",
    "import math\n",
    "\n",
    "robot = gpg.EasyGoPiGo3()\n",
    "distance_sensor_port = 'I2C'\n",
    "distance_sensor = robot.init_distance_sensor(distance_sensor_port)\n",
    "separator_length = 80\n",
    "remote_control_port = 'AD1'\n",
    "remote_control = robot.init_remote(port=remote_control_port)"
   ]
  },
  {
   "cell_type": "markdown",
   "metadata": {},
   "source": [
    "---\n",
    "### Exercice 5.1.\n",
    "Faites un programme qui affiche la distance mesurée en millimètre le plus rapidement possible pendant _x_ secondes."
   ]
  },
  {
   "cell_type": "code",
   "execution_count": 25,
   "metadata": {},
   "outputs": [
    {
     "name": "stdout",
     "output_type": "stream",
     "text": [
      "!!! Out of RANGE!!!\n",
      "!!! Out of RANGE!!!\n",
      "!!! Out of RANGE!!!\n",
      "!!! Out of RANGE!!!\n",
      "!!! Out of RANGE!!!\n",
      "!!! Out of RANGE!!!\n",
      "!!! Out of RANGE!!!\n",
      "!!! Out of RANGE!!!\n",
      "!!! Out of RANGE!!!\n",
      "!!! Out of RANGE!!!\n",
      "!!! Out of RANGE!!!\n",
      "!!! Out of RANGE!!!\n",
      "!!! Out of RANGE!!!\n",
      "!!! Out of RANGE!!!\n",
      "!!! Out of RANGE!!!\n",
      "!!! Out of RANGE!!!\n",
      "!!! Out of RANGE!!!____\n",
      "!!! Out of RANGE!!!\n",
      "!!! Out of RANGE!!!\n",
      "!!! Out of RANGE!!!\n",
      "!!! Out of RANGE!!!\n",
      "!!! Out of RANGE!!!\n",
      "!!! Out of RANGE!!!\n",
      "!!! Out of RANGE!!!\n",
      "!!! Out of RANGE!!!\n",
      "!!! Out of RANGE!!!\n",
      "!!! Out of RANGE!!!\n",
      "!!! Out of RANGE!!!\n",
      "!!! Out of RANGE!!!\n",
      "!!! Out of RANGE!!!\n",
      "!!! Out of RANGE!!!\n",
      "!!! Out of RANGE!!!\n",
      "!!! Out of RANGE!!!\n",
      "!!! Out of RANGE!!!\n",
      "!!! Out of RANGE!!!\n",
      "!!! Out of RANGE!!!\n",
      "!!! Out of RANGE!!!\n",
      "!!! Out of RANGE!!!\n",
      "!!! Out of RANGE!!!\n",
      "!!! Out of RANGE!!!\n",
      "!!! Out of RANGE!!!\n",
      "!!! Out of RANGE!!!\n",
      "!!! Out of RANGE!!!\n",
      "!!! Out of RANGE!!!\n",
      "!!! Out of RANGE!!!\n",
      "!!! Out of RANGE!!!\n",
      "!!! Out of RANGE!!!\n",
      "!!! Out of RANGE!!!\n",
      "!!! Out of RANGE!!!____\n",
      "!!! Out of RANGE!!!\n",
      "#####__________________[Errno 5] Input/output error\n",
      "###____________________[Errno 5] Input/output error\n",
      "##_____________________cannot unpack non-iterable int object\n",
      "[Errno 5] Input/output error\n",
      "_______________________[Errno 5] Input/output error\n",
      "###____________________[Errno 5] Input/output error\n",
      "####___________________[Errno 5] Input/output error\n",
      "####___________________[Errno 5] Input/output error\n",
      "####___________________[Errno 5] Input/output error\n",
      "######_________________"
     ]
    },
    {
     "ename": "KeyboardInterrupt",
     "evalue": "",
     "output_type": "error",
     "traceback": [
      "\u001b[0;31m---------------------------------------------------------------------------\u001b[0m",
      "\u001b[0;31mKeyboardInterrupt\u001b[0m                         Traceback (most recent call last)",
      "\u001b[0;32m<ipython-input-25-a8d64d843033>\u001b[0m in \u001b[0;36m<module>\u001b[0;34m\u001b[0m\n\u001b[1;32m      7\u001b[0m     \u001b[0mtime_elapsed\u001b[0m \u001b[0;34m=\u001b[0m \u001b[0mtime\u001b[0m\u001b[0;34m.\u001b[0m\u001b[0mperf_counter\u001b[0m\u001b[0;34m(\u001b[0m\u001b[0;34m)\u001b[0m \u001b[0;34m-\u001b[0m \u001b[0mstart_time\u001b[0m\u001b[0;34m\u001b[0m\u001b[0;34m\u001b[0m\u001b[0m\n\u001b[1;32m      8\u001b[0m     \u001b[0;31m#print(f'\\r{math.floor(distance_sensor.read_mm())}')\u001b[0m\u001b[0;34m\u001b[0m\u001b[0;34m\u001b[0m\u001b[0;34m\u001b[0m\u001b[0m\n\u001b[0;32m----> 9\u001b[0;31m     \u001b[0mvariable_avant\u001b[0m \u001b[0;34m=\u001b[0m \u001b[0mmath\u001b[0m\u001b[0;34m.\u001b[0m\u001b[0mfloor\u001b[0m\u001b[0;34m(\u001b[0m\u001b[0mdistance_sensor\u001b[0m\u001b[0;34m.\u001b[0m\u001b[0mread_mm\u001b[0m\u001b[0;34m(\u001b[0m\u001b[0;34m)\u001b[0m \u001b[0;34m/\u001b[0m \u001b[0;36m100\u001b[0m\u001b[0;34m)\u001b[0m\u001b[0;34m\u001b[0m\u001b[0;34m\u001b[0m\u001b[0m\n\u001b[0m\u001b[1;32m     10\u001b[0m     \u001b[0mprint\u001b[0m\u001b[0;34m(\u001b[0m\u001b[0;34m'\\r'\u001b[0m \u001b[0;34m+\u001b[0m \u001b[0;34m'#'\u001b[0m \u001b[0;34m*\u001b[0m \u001b[0mvariable_avant\u001b[0m\u001b[0;34m,\u001b[0m \u001b[0mend\u001b[0m\u001b[0;34m=\u001b[0m\u001b[0;34m'_'\u001b[0m \u001b[0;34m*\u001b[0m \u001b[0;34m(\u001b[0m\u001b[0;36m23\u001b[0m \u001b[0;34m-\u001b[0m \u001b[0mvariable_avant\u001b[0m\u001b[0;34m)\u001b[0m\u001b[0;34m)\u001b[0m \u001b[0;32mif\u001b[0m \u001b[0mvariable_avant\u001b[0m \u001b[0;34m!=\u001b[0m \u001b[0;36m30\u001b[0m \u001b[0;32melse\u001b[0m \u001b[0mprint\u001b[0m\u001b[0;34m(\u001b[0m\u001b[0;34m'\\r!!! Out of RANGE!!!'\u001b[0m\u001b[0;34m)\u001b[0m\u001b[0;34m\u001b[0m\u001b[0;34m\u001b[0m\u001b[0m\n\u001b[1;32m     11\u001b[0m \u001b[0;34m\u001b[0m\u001b[0m\n",
      "\u001b[0;32m/usr/local/lib/python3.7/dist-packages/DI_Sensors-1.0.0-py3.7.egg/di_sensors/easy_distance_sensor.py\u001b[0m in \u001b[0;36mread_mm\u001b[0;34m(self)\u001b[0m\n\u001b[1;32m     89\u001b[0m             \u001b[0mifMutexAcquire\u001b[0m\u001b[0;34m(\u001b[0m\u001b[0mself\u001b[0m\u001b[0;34m.\u001b[0m\u001b[0muse_mutex\u001b[0m\u001b[0;34m)\u001b[0m\u001b[0;34m\u001b[0m\u001b[0;34m\u001b[0m\u001b[0m\n\u001b[1;32m     90\u001b[0m             \u001b[0;32mtry\u001b[0m\u001b[0;34m:\u001b[0m\u001b[0;34m\u001b[0m\u001b[0;34m\u001b[0m\u001b[0m\n\u001b[0;32m---> 91\u001b[0;31m                 \u001b[0mmm\u001b[0m \u001b[0;34m=\u001b[0m \u001b[0mself\u001b[0m\u001b[0;34m.\u001b[0m\u001b[0mread_range_single\u001b[0m\u001b[0;34m(\u001b[0m\u001b[0;34m)\u001b[0m\u001b[0;34m\u001b[0m\u001b[0;34m\u001b[0m\u001b[0m\n\u001b[0m\u001b[1;32m     92\u001b[0m             \u001b[0;32mexcept\u001b[0m \u001b[0mException\u001b[0m \u001b[0;32mas\u001b[0m \u001b[0me\u001b[0m\u001b[0;34m:\u001b[0m\u001b[0;34m\u001b[0m\u001b[0;34m\u001b[0m\u001b[0m\n\u001b[1;32m     93\u001b[0m                 \u001b[0mprint\u001b[0m\u001b[0;34m(\u001b[0m\u001b[0me\u001b[0m\u001b[0;34m)\u001b[0m\u001b[0;34m\u001b[0m\u001b[0;34m\u001b[0m\u001b[0m\n",
      "\u001b[0;32m/usr/local/lib/python3.7/dist-packages/DI_Sensors-1.0.0-py3.7.egg/di_sensors/distance_sensor.py\u001b[0m in \u001b[0;36mread_range_single\u001b[0;34m(self, safe_infinity)\u001b[0m\n\u001b[1;32m     85\u001b[0m         \u001b[0;32mif\u001b[0m \u001b[0msafe_infinity\u001b[0m \u001b[0;32mand\u001b[0m \u001b[0mvalue\u001b[0m \u001b[0;34m<\u001b[0m \u001b[0;36m8190\u001b[0m\u001b[0;34m:\u001b[0m\u001b[0;34m\u001b[0m\u001b[0;34m\u001b[0m\u001b[0m\n\u001b[1;32m     86\u001b[0m             \u001b[0;32mfor\u001b[0m \u001b[0mi\u001b[0m \u001b[0;32min\u001b[0m \u001b[0mrange\u001b[0m\u001b[0;34m(\u001b[0m\u001b[0;36m3\u001b[0m\u001b[0;34m)\u001b[0m\u001b[0;34m:\u001b[0m\u001b[0;34m\u001b[0m\u001b[0;34m\u001b[0m\u001b[0m\n\u001b[0;32m---> 87\u001b[0;31m                 \u001b[0mvalue\u001b[0m \u001b[0;34m=\u001b[0m \u001b[0mself\u001b[0m\u001b[0;34m.\u001b[0m\u001b[0mVL53L0X\u001b[0m\u001b[0;34m.\u001b[0m\u001b[0mread_range_single_millimeters\u001b[0m\u001b[0;34m(\u001b[0m\u001b[0;34m)\u001b[0m\u001b[0;34m\u001b[0m\u001b[0;34m\u001b[0m\u001b[0m\n\u001b[0m\u001b[1;32m     88\u001b[0m                 \u001b[0;32mif\u001b[0m \u001b[0mvalue\u001b[0m \u001b[0;34m>=\u001b[0m \u001b[0;36m8190\u001b[0m\u001b[0;34m:\u001b[0m\u001b[0;34m\u001b[0m\u001b[0;34m\u001b[0m\u001b[0m\n\u001b[1;32m     89\u001b[0m                         \u001b[0;32mreturn\u001b[0m \u001b[0mvalue\u001b[0m\u001b[0;34m\u001b[0m\u001b[0;34m\u001b[0m\u001b[0m\n",
      "\u001b[0;32m/usr/local/lib/python3.7/dist-packages/DI_Sensors-1.0.0-py3.7.egg/di_sensors/VL53L0X.py\u001b[0m in \u001b[0;36mread_range_single_millimeters\u001b[0;34m(self)\u001b[0m\n\u001b[1;32m    864\u001b[0m         \u001b[0mself\u001b[0m\u001b[0;34m.\u001b[0m\u001b[0mi2c_bus\u001b[0m\u001b[0;34m.\u001b[0m\u001b[0mwrite_reg_8\u001b[0m\u001b[0;34m(\u001b[0m\u001b[0;36m0x00\u001b[0m\u001b[0;34m,\u001b[0m \u001b[0;36m0x01\u001b[0m\u001b[0;34m)\u001b[0m\u001b[0;34m\u001b[0m\u001b[0;34m\u001b[0m\u001b[0m\n\u001b[1;32m    865\u001b[0m         \u001b[0mself\u001b[0m\u001b[0;34m.\u001b[0m\u001b[0mi2c_bus\u001b[0m\u001b[0;34m.\u001b[0m\u001b[0mwrite_reg_8\u001b[0m\u001b[0;34m(\u001b[0m\u001b[0;36m0xFF\u001b[0m\u001b[0;34m,\u001b[0m \u001b[0;36m0x00\u001b[0m\u001b[0;34m)\u001b[0m\u001b[0;34m\u001b[0m\u001b[0;34m\u001b[0m\u001b[0m\n\u001b[0;32m--> 866\u001b[0;31m         \u001b[0mself\u001b[0m\u001b[0;34m.\u001b[0m\u001b[0mi2c_bus\u001b[0m\u001b[0;34m.\u001b[0m\u001b[0mwrite_reg_8\u001b[0m\u001b[0;34m(\u001b[0m\u001b[0;36m0x80\u001b[0m\u001b[0;34m,\u001b[0m \u001b[0;36m0x00\u001b[0m\u001b[0;34m)\u001b[0m\u001b[0;34m\u001b[0m\u001b[0;34m\u001b[0m\u001b[0m\n\u001b[0m\u001b[1;32m    867\u001b[0m \u001b[0;34m\u001b[0m\u001b[0m\n\u001b[1;32m    868\u001b[0m         \u001b[0mself\u001b[0m\u001b[0;34m.\u001b[0m\u001b[0mi2c_bus\u001b[0m\u001b[0;34m.\u001b[0m\u001b[0mwrite_reg_8\u001b[0m\u001b[0;34m(\u001b[0m\u001b[0mSYSRANGE_START\u001b[0m\u001b[0;34m,\u001b[0m \u001b[0;36m0x01\u001b[0m\u001b[0;34m)\u001b[0m\u001b[0;34m\u001b[0m\u001b[0;34m\u001b[0m\u001b[0m\n",
      "\u001b[0;32m/usr/local/lib/python3.7/dist-packages/Dexter_AutoDetection_and_I2C_Mutex-0.0.0-py3.7.egg/di_i2c.py\u001b[0m in \u001b[0;36mwrite_reg_8\u001b[0;34m(self, reg, val)\u001b[0m\n\u001b[1;32m    218\u001b[0m         val -- byte to write\"\"\"\n\u001b[1;32m    219\u001b[0m         \u001b[0mval\u001b[0m \u001b[0;34m=\u001b[0m \u001b[0mint\u001b[0m\u001b[0;34m(\u001b[0m\u001b[0mval\u001b[0m\u001b[0;34m)\u001b[0m\u001b[0;34m\u001b[0m\u001b[0;34m\u001b[0m\u001b[0m\n\u001b[0;32m--> 220\u001b[0;31m         \u001b[0mself\u001b[0m\u001b[0;34m.\u001b[0m\u001b[0mtransfer\u001b[0m\u001b[0;34m(\u001b[0m\u001b[0;34m[\u001b[0m\u001b[0mreg\u001b[0m\u001b[0;34m,\u001b[0m \u001b[0mval\u001b[0m\u001b[0;34m]\u001b[0m\u001b[0;34m)\u001b[0m\u001b[0;34m\u001b[0m\u001b[0;34m\u001b[0m\u001b[0m\n\u001b[0m\u001b[1;32m    221\u001b[0m \u001b[0;34m\u001b[0m\u001b[0m\n\u001b[1;32m    222\u001b[0m     \u001b[0;32mdef\u001b[0m \u001b[0mwrite_reg_16\u001b[0m\u001b[0;34m(\u001b[0m\u001b[0mself\u001b[0m\u001b[0;34m,\u001b[0m \u001b[0mreg\u001b[0m\u001b[0;34m,\u001b[0m \u001b[0mval\u001b[0m\u001b[0;34m,\u001b[0m \u001b[0mbig_endian\u001b[0m \u001b[0;34m=\u001b[0m \u001b[0;32mNone\u001b[0m\u001b[0;34m)\u001b[0m\u001b[0;34m:\u001b[0m\u001b[0;34m\u001b[0m\u001b[0;34m\u001b[0m\u001b[0m\n",
      "\u001b[0;32m/usr/local/lib/python3.7/dist-packages/Dexter_AutoDetection_and_I2C_Mutex-0.0.0-py3.7.egg/di_i2c.py\u001b[0m in \u001b[0;36mtransfer\u001b[0;34m(self, outArr, inBytes)\u001b[0m\n\u001b[1;32m    200\u001b[0m             \u001b[0;32mraise\u001b[0m \u001b[0;31m# raise the exception for user-code to deal with\u001b[0m\u001b[0;34m\u001b[0m\u001b[0;34m\u001b[0m\u001b[0m\n\u001b[1;32m    201\u001b[0m \u001b[0;34m\u001b[0m\u001b[0m\n\u001b[0;32m--> 202\u001b[0;31m         \u001b[0mself\u001b[0m\u001b[0;34m.\u001b[0m\u001b[0mmutex\u001b[0m\u001b[0;34m.\u001b[0m\u001b[0mrelease\u001b[0m\u001b[0;34m(\u001b[0m\u001b[0;34m)\u001b[0m \u001b[0;31m# release the bus mutex\u001b[0m\u001b[0;34m\u001b[0m\u001b[0;34m\u001b[0m\u001b[0m\n\u001b[0m\u001b[1;32m    203\u001b[0m         \u001b[0;32mreturn\u001b[0m \u001b[0mreturn_val\u001b[0m    \u001b[0;31m# return data (if read)\u001b[0m\u001b[0;34m\u001b[0m\u001b[0;34m\u001b[0m\u001b[0m\n\u001b[1;32m    204\u001b[0m \u001b[0;34m\u001b[0m\u001b[0m\n",
      "\u001b[0;32m/usr/local/lib/python3.7/dist-packages/Dexter_AutoDetection_and_I2C_Mutex-0.0.0-py3.7.egg/di_mutex.py\u001b[0m in \u001b[0;36mrelease\u001b[0;34m(self)\u001b[0m\n\u001b[1;32m     61\u001b[0m             \u001b[0mself\u001b[0m\u001b[0;34m.\u001b[0m\u001b[0mHandle\u001b[0m\u001b[0;34m.\u001b[0m\u001b[0mclose\u001b[0m\u001b[0;34m(\u001b[0m\u001b[0;34m)\u001b[0m\u001b[0;34m\u001b[0m\u001b[0;34m\u001b[0m\u001b[0m\n\u001b[1;32m     62\u001b[0m             \u001b[0mself\u001b[0m\u001b[0;34m.\u001b[0m\u001b[0mHandle\u001b[0m \u001b[0;34m=\u001b[0m \u001b[0;32mNone\u001b[0m\u001b[0;34m\u001b[0m\u001b[0;34m\u001b[0m\u001b[0m\n\u001b[0;32m---> 63\u001b[0;31m             \u001b[0mtime\u001b[0m\u001b[0;34m.\u001b[0m\u001b[0msleep\u001b[0m\u001b[0;34m(\u001b[0m\u001b[0mself\u001b[0m\u001b[0;34m.\u001b[0m\u001b[0mLoopTime\u001b[0m\u001b[0;34m)\u001b[0m\u001b[0;34m\u001b[0m\u001b[0;34m\u001b[0m\u001b[0m\n\u001b[0m",
      "\u001b[0;31mKeyboardInterrupt\u001b[0m: "
     ]
    }
   ],
   "source": [
    "duration = 10\n",
    "time_elapsed = 0\n",
    "start_time = time.perf_counter()\n",
    "\n",
    "while True:\n",
    "    time_elapsed = time.perf_counter\n",
    "    time_elapsed = time.perf_counter() - start_time\n",
    "    #print(f'\\r{math.floor(distance_sensor.read_mm())}')\n",
    "    variable_avant = math.floor(distance_sensor.read_mm() / 100)\n",
    "    print('\\r' + '#' * variable_avant, end='_' * (23 - variable_avant)) if variable_avant != 30 else print('\\r!!! Out of RANGE!!!')\n",
    "    \n"
   ]
  },
  {
   "cell_type": "markdown",
   "metadata": {},
   "source": [
    "---\n",
    "### Exercice 5.2.\n",
    "Ajouter à l'exercice précédent les options suivantes avec la télécommande :\n",
    " - `1` : lecture en kilomètre\n",
    " - `2` : lecture en centimètre (valeur par défaut)\n",
    " - `3` : lecture en millimètre\n",
    " - `4` : lecture en pouce (décimale numérique, exemple : 3.25 pouce)\n",
    " - `5` : lecture en pied (décimale numérique, exemple : 0.125 pied)\n",
    " - `ok` : fin du programme (il n'y a plus de délais)\n",
    " \n",
    "_En option_ (* §) pour les étudiants intéressés par le sujet : \n",
    " - `6` : une lecture en pied, pouce et fraction la plus précise jusqu'à 1/32 (exemple : 1' 3\" 3/16)."
   ]
  },
  {
   "cell_type": "code",
   "execution_count": 41,
   "metadata": {},
   "outputs": [],
   "source": [
    "key = 0\n",
    "previous_key = ''\n",
    "longuest_string = 20\n",
    "fps = 0 \n",
    "\n",
    "def distances():\n",
    "    while key not in (3,):\n",
    "        time_elapsed = time.perf_counter\n",
    "        time_elapsed = time.perf_counter() - start_time\n",
    "        key = remote_control.read()\n",
    "        if key != 0 and previous_key != key:\n",
    "            previous_key = key\n",
    "            if key == 6: print(str(distance_sensor.read() / 100 / 1000) + ' km')\n",
    "            elif key == 7 : print(str(distance_sensor.read()) + ' cm') \n",
    "            elif key == 8 : print(str(distance_sensor.read_mm()) + ' mm') \n",
    "            elif key == 9 : print(str(distance_sensor.read_inches()) + ' in') \n",
    "            elif key == 10 : print(str(distance_sensor.read_inches() / 12) + ' pi') \n",
    "\n",
    "\n",
    "        \n",
    " \n",
    "                \n"
   ]
  },
  {
   "cell_type": "markdown",
   "metadata": {},
   "source": [
    "---\n",
    "### Exercice 5.3.\n",
    "Ajoutez à l'exercice précédent l'affichage de la fréquence de la boucle du programme : les _FPS_."
   ]
  },
  {
   "cell_type": "code",
   "execution_count": null,
   "metadata": {},
   "outputs": [],
   "source": [
    "# Solution\n",
    "# ..."
   ]
  },
  {
   "cell_type": "markdown",
   "metadata": {},
   "source": [
    "---\n",
    "### Exercice 5.4.\n",
    "Faites l'acquisition de 100 valeurs de distance en millimètre tout en prenant le soins de déplacer manuellement une cible devant le télémètre. \n",
    "\n",
    "Ensuite, faites afficher les statistiques suivantes :\n",
    " - le nombre total de mesures effectuées\n",
    " - le pourcentage de bonnes mesures et de mesures hors de portée\n",
    " - seulement pour les lectures qui ne sont pas hors de portée :\n",
    "     - le nombre de mesures\n",
    "     - la valeur minimum\n",
    "     - la valeur maximum\n",
    "     - la valeur moyenne\n",
    "     - l'écart type\n",
    "     - la valeur médianne\n",
    "     - l'étendu"
   ]
  },
  {
   "cell_type": "code",
   "execution_count": null,
   "metadata": {},
   "outputs": [],
   "source": [
    "# Solution\n",
    "# ..."
   ]
  }
 ],
 "metadata": {
  "interpreter": {
   "hash": "11938c6bc6919ae2720b4d5011047913343b08a43b18698fd82dedb0d4417594"
  },
  "kernelspec": {
   "display_name": "Python 3",
   "language": "python",
   "name": "python3"
  },
  "language_info": {
   "codemirror_mode": {
    "name": "ipython",
    "version": 3
   },
   "file_extension": ".py",
   "mimetype": "text/x-python",
   "name": "python",
   "nbconvert_exporter": "python",
   "pygments_lexer": "ipython3",
   "version": "3.7.3"
  }
 },
 "nbformat": 4,
 "nbformat_minor": 4
}
